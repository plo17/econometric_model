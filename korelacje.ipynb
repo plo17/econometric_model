{
  "nbformat": 4,
  "nbformat_minor": 0,
  "metadata": {
    "colab": {
      "provenance": []
    },
    "kernelspec": {
      "name": "ir",
      "display_name": "R"
    },
    "language_info": {
      "name": "R"
    }
  },
  "cells": [
    {
      "cell_type": "code",
      "execution_count": 1,
      "metadata": {
        "colab": {
          "base_uri": "https://localhost:8080/"
        },
        "id": "D_U3CDynpYr6",
        "outputId": "6437ba82-34aa-4ea9-e15a-fd1553a6bf15"
      },
      "outputs": [
        {
          "output_type": "stream",
          "name": "stderr",
          "text": [
            "Installing package into ‘/usr/local/lib/R/site-library’\n",
            "(as ‘lib’ is unspecified)\n",
            "\n",
            "Installing package into ‘/usr/local/lib/R/site-library’\n",
            "(as ‘lib’ is unspecified)\n",
            "\n",
            "also installing the dependencies ‘mnormt’, ‘GPArotation’\n",
            "\n",
            "\n"
          ]
        }
      ],
      "source": [
        "install.packages(\"tidyr\")\n",
        "install.packages(\"psych\")\n",
        "\n",
        "library(\"psych\")\n",
        "library(\"tidyr\")\n"
      ]
    },
    {
      "cell_type": "markdown",
      "source": [
        "## wczytanie danych"
      ],
      "metadata": {
        "id": "crK_0a9eph3o"
      }
    },
    {
      "cell_type": "code",
      "source": [
        "dane <- read.csv2(\"/content/ceny_produktow_rolniczych.csv\")\n",
        "head(dane)"
      ],
      "metadata": {
        "colab": {
          "base_uri": "https://localhost:8080/",
          "height": 0
        },
        "id": "WRGea6dDphBM",
        "outputId": "4bdddf4d-b758-4abf-e756-4db91bcdadf3"
      },
      "execution_count": 4,
      "outputs": [
        {
          "output_type": "display_data",
          "data": {
            "text/html": [
              "<table class=\"dataframe\">\n",
              "<caption>A data.frame: 6 × 9</caption>\n",
              "<thead>\n",
              "\t<tr><th></th><th scope=col>X</th><th scope=col>Okresy</th><th scope=col>Rok</th><th scope=col>ziarno.zbóż..bez.siewnego....jęczmień.za.1dt</th><th scope=col>ziarno.zbóż..bez.siewnego....pszenżyto.za.1dt</th><th scope=col>ziarno.zbóż..bez.siewnego....owies.za.1dt</th><th scope=col>ziarno.zbóż..bez.siewnego....kukurydza.za.1dt</th><th scope=col>żywiec.rzeźny...bydło..bez.cieląt..za.1.kg.wagi.żywej</th><th scope=col>mleko.krowie.za.1.hl</th></tr>\n",
              "\t<tr><th></th><th scope=col>&lt;int&gt;</th><th scope=col>&lt;chr&gt;</th><th scope=col>&lt;int&gt;</th><th scope=col>&lt;dbl&gt;</th><th scope=col>&lt;dbl&gt;</th><th scope=col>&lt;dbl&gt;</th><th scope=col>&lt;dbl&gt;</th><th scope=col>&lt;dbl&gt;</th><th scope=col>&lt;dbl&gt;</th></tr>\n",
              "</thead>\n",
              "<tbody>\n",
              "\t<tr><th scope=row>1</th><td> 1</td><td>styczeń </td><td>2018</td><td>67.59</td><td>62.06</td><td>52.01</td><td>59.65</td><td>6.58</td><td>142.12</td></tr>\n",
              "\t<tr><th scope=row>2</th><td> 8</td><td>luty    </td><td>2018</td><td>67.33</td><td>61.37</td><td>52.29</td><td>60.46</td><td>6.47</td><td>135.24</td></tr>\n",
              "\t<tr><th scope=row>3</th><td>15</td><td>marzec  </td><td>2018</td><td>67.08</td><td>61.86</td><td>51.87</td><td>61.81</td><td>6.34</td><td>134.20</td></tr>\n",
              "\t<tr><th scope=row>4</th><td>22</td><td>kwiecień</td><td>2018</td><td>67.35</td><td>62.37</td><td>51.85</td><td>62.35</td><td>6.58</td><td>132.17</td></tr>\n",
              "\t<tr><th scope=row>5</th><td>29</td><td>maj     </td><td>2018</td><td>66.19</td><td>62.44</td><td>53.30</td><td>64.78</td><td>6.63</td><td>129.20</td></tr>\n",
              "\t<tr><th scope=row>6</th><td>36</td><td>czerwiec</td><td>2018</td><td>65.47</td><td>63.72</td><td>54.41</td><td>67.09</td><td>6.49</td><td>128.52</td></tr>\n",
              "</tbody>\n",
              "</table>\n"
            ],
            "text/markdown": "\nA data.frame: 6 × 9\n\n| <!--/--> | X &lt;int&gt; | Okresy &lt;chr&gt; | Rok &lt;int&gt; | ziarno.zbóż..bez.siewnego....jęczmień.za.1dt &lt;dbl&gt; | ziarno.zbóż..bez.siewnego....pszenżyto.za.1dt &lt;dbl&gt; | ziarno.zbóż..bez.siewnego....owies.za.1dt &lt;dbl&gt; | ziarno.zbóż..bez.siewnego....kukurydza.za.1dt &lt;dbl&gt; | żywiec.rzeźny...bydło..bez.cieląt..za.1.kg.wagi.żywej &lt;dbl&gt; | mleko.krowie.za.1.hl &lt;dbl&gt; |\n|---|---|---|---|---|---|---|---|---|---|\n| 1 |  1 | styczeń  | 2018 | 67.59 | 62.06 | 52.01 | 59.65 | 6.58 | 142.12 |\n| 2 |  8 | luty     | 2018 | 67.33 | 61.37 | 52.29 | 60.46 | 6.47 | 135.24 |\n| 3 | 15 | marzec   | 2018 | 67.08 | 61.86 | 51.87 | 61.81 | 6.34 | 134.20 |\n| 4 | 22 | kwiecień | 2018 | 67.35 | 62.37 | 51.85 | 62.35 | 6.58 | 132.17 |\n| 5 | 29 | maj      | 2018 | 66.19 | 62.44 | 53.30 | 64.78 | 6.63 | 129.20 |\n| 6 | 36 | czerwiec | 2018 | 65.47 | 63.72 | 54.41 | 67.09 | 6.49 | 128.52 |\n\n",
            "text/latex": "A data.frame: 6 × 9\n\\begin{tabular}{r|lllllllll}\n  & X & Okresy & Rok & ziarno.zbóż..bez.siewnego....jęczmień.za.1dt & ziarno.zbóż..bez.siewnego....pszenżyto.za.1dt & ziarno.zbóż..bez.siewnego....owies.za.1dt & ziarno.zbóż..bez.siewnego....kukurydza.za.1dt & żywiec.rzeźny...bydło..bez.cieląt..za.1.kg.wagi.żywej & mleko.krowie.za.1.hl\\\\\n  & <int> & <chr> & <int> & <dbl> & <dbl> & <dbl> & <dbl> & <dbl> & <dbl>\\\\\n\\hline\n\t1 &  1 & styczeń  & 2018 & 67.59 & 62.06 & 52.01 & 59.65 & 6.58 & 142.12\\\\\n\t2 &  8 & luty     & 2018 & 67.33 & 61.37 & 52.29 & 60.46 & 6.47 & 135.24\\\\\n\t3 & 15 & marzec   & 2018 & 67.08 & 61.86 & 51.87 & 61.81 & 6.34 & 134.20\\\\\n\t4 & 22 & kwiecień & 2018 & 67.35 & 62.37 & 51.85 & 62.35 & 6.58 & 132.17\\\\\n\t5 & 29 & maj      & 2018 & 66.19 & 62.44 & 53.30 & 64.78 & 6.63 & 129.20\\\\\n\t6 & 36 & czerwiec & 2018 & 65.47 & 63.72 & 54.41 & 67.09 & 6.49 & 128.52\\\\\n\\end{tabular}\n",
            "text/plain": [
              "  X  Okresy   Rok  ziarno.zbóż..bez.siewnego....jęczmień.za.1dt\n",
              "1  1 styczeń  2018 67.59                                       \n",
              "2  8 luty     2018 67.33                                       \n",
              "3 15 marzec   2018 67.08                                       \n",
              "4 22 kwiecień 2018 67.35                                       \n",
              "5 29 maj      2018 66.19                                       \n",
              "6 36 czerwiec 2018 65.47                                       \n",
              "  ziarno.zbóż..bez.siewnego....pszenżyto.za.1dt\n",
              "1 62.06                                        \n",
              "2 61.37                                        \n",
              "3 61.86                                        \n",
              "4 62.37                                        \n",
              "5 62.44                                        \n",
              "6 63.72                                        \n",
              "  ziarno.zbóż..bez.siewnego....owies.za.1dt\n",
              "1 52.01                                    \n",
              "2 52.29                                    \n",
              "3 51.87                                    \n",
              "4 51.85                                    \n",
              "5 53.30                                    \n",
              "6 54.41                                    \n",
              "  ziarno.zbóż..bez.siewnego....kukurydza.za.1dt\n",
              "1 59.65                                        \n",
              "2 60.46                                        \n",
              "3 61.81                                        \n",
              "4 62.35                                        \n",
              "5 64.78                                        \n",
              "6 67.09                                        \n",
              "  żywiec.rzeźny...bydło..bez.cieląt..za.1.kg.wagi.żywej mleko.krowie.za.1.hl\n",
              "1 6.58                                                  142.12              \n",
              "2 6.47                                                  135.24              \n",
              "3 6.34                                                  134.20              \n",
              "4 6.58                                                  132.17              \n",
              "5 6.63                                                  129.20              \n",
              "6 6.49                                                  128.52              "
            ]
          },
          "metadata": {}
        }
      ]
    },
    {
      "cell_type": "code",
      "source": [
        "names(dane) <- c(\"x\", \"miesiąc\", \"rok\", \"jęczmień_1dt\", \"pszenżyto_1dt\", \"owies_1dt\", \"kukurydza_1dt\", \"bydlo_1kg\", \"mleko_1hl\")\n",
        "names(dane)"
      ],
      "metadata": {
        "colab": {
          "base_uri": "https://localhost:8080/",
          "height": 0
        },
        "id": "0eJNdpGSpnRB",
        "outputId": "926773ea-acf0-4f84-db28-f6fc1b053a7d"
      },
      "execution_count": 5,
      "outputs": [
        {
          "output_type": "display_data",
          "data": {
            "text/html": [
              "<style>\n",
              ".list-inline {list-style: none; margin:0; padding: 0}\n",
              ".list-inline>li {display: inline-block}\n",
              ".list-inline>li:not(:last-child)::after {content: \"\\00b7\"; padding: 0 .5ex}\n",
              "</style>\n",
              "<ol class=list-inline><li>'x'</li><li>'miesiąc'</li><li>'rok'</li><li>'jęczmień_1dt'</li><li>'pszenżyto_1dt'</li><li>'owies_1dt'</li><li>'kukurydza_1dt'</li><li>'bydlo_1kg'</li><li>'mleko_1hl'</li></ol>\n"
            ],
            "text/markdown": "1. 'x'\n2. 'miesiąc'\n3. 'rok'\n4. 'jęczmień_1dt'\n5. 'pszenżyto_1dt'\n6. 'owies_1dt'\n7. 'kukurydza_1dt'\n8. 'bydlo_1kg'\n9. 'mleko_1hl'\n\n\n",
            "text/latex": "\\begin{enumerate*}\n\\item 'x'\n\\item 'miesiąc'\n\\item 'rok'\n\\item 'jęczmień\\_1dt'\n\\item 'pszenżyto\\_1dt'\n\\item 'owies\\_1dt'\n\\item 'kukurydza\\_1dt'\n\\item 'bydlo\\_1kg'\n\\item 'mleko\\_1hl'\n\\end{enumerate*}\n",
            "text/plain": [
              "[1] \"x\"             \"miesiąc\"       \"rok\"           \"jęczmień_1dt\" \n",
              "[5] \"pszenżyto_1dt\" \"owies_1dt\"     \"kukurydza_1dt\" \"bydlo_1kg\"    \n",
              "[9] \"mleko_1hl\"    "
            ]
          },
          "metadata": {}
        }
      ]
    },
    {
      "cell_type": "code",
      "source": [
        "head(dane)"
      ],
      "metadata": {
        "colab": {
          "base_uri": "https://localhost:8080/",
          "height": 0
        },
        "id": "aB3HjyuDppE5",
        "outputId": "c919d868-48fb-4ff4-e2b7-445de1e26fd3"
      },
      "execution_count": 6,
      "outputs": [
        {
          "output_type": "display_data",
          "data": {
            "text/html": [
              "<table class=\"dataframe\">\n",
              "<caption>A data.frame: 6 × 9</caption>\n",
              "<thead>\n",
              "\t<tr><th></th><th scope=col>x</th><th scope=col>miesiąc</th><th scope=col>rok</th><th scope=col>jęczmień_1dt</th><th scope=col>pszenżyto_1dt</th><th scope=col>owies_1dt</th><th scope=col>kukurydza_1dt</th><th scope=col>bydlo_1kg</th><th scope=col>mleko_1hl</th></tr>\n",
              "\t<tr><th></th><th scope=col>&lt;int&gt;</th><th scope=col>&lt;chr&gt;</th><th scope=col>&lt;int&gt;</th><th scope=col>&lt;dbl&gt;</th><th scope=col>&lt;dbl&gt;</th><th scope=col>&lt;dbl&gt;</th><th scope=col>&lt;dbl&gt;</th><th scope=col>&lt;dbl&gt;</th><th scope=col>&lt;dbl&gt;</th></tr>\n",
              "</thead>\n",
              "<tbody>\n",
              "\t<tr><th scope=row>1</th><td> 1</td><td>styczeń </td><td>2018</td><td>67.59</td><td>62.06</td><td>52.01</td><td>59.65</td><td>6.58</td><td>142.12</td></tr>\n",
              "\t<tr><th scope=row>2</th><td> 8</td><td>luty    </td><td>2018</td><td>67.33</td><td>61.37</td><td>52.29</td><td>60.46</td><td>6.47</td><td>135.24</td></tr>\n",
              "\t<tr><th scope=row>3</th><td>15</td><td>marzec  </td><td>2018</td><td>67.08</td><td>61.86</td><td>51.87</td><td>61.81</td><td>6.34</td><td>134.20</td></tr>\n",
              "\t<tr><th scope=row>4</th><td>22</td><td>kwiecień</td><td>2018</td><td>67.35</td><td>62.37</td><td>51.85</td><td>62.35</td><td>6.58</td><td>132.17</td></tr>\n",
              "\t<tr><th scope=row>5</th><td>29</td><td>maj     </td><td>2018</td><td>66.19</td><td>62.44</td><td>53.30</td><td>64.78</td><td>6.63</td><td>129.20</td></tr>\n",
              "\t<tr><th scope=row>6</th><td>36</td><td>czerwiec</td><td>2018</td><td>65.47</td><td>63.72</td><td>54.41</td><td>67.09</td><td>6.49</td><td>128.52</td></tr>\n",
              "</tbody>\n",
              "</table>\n"
            ],
            "text/markdown": "\nA data.frame: 6 × 9\n\n| <!--/--> | x &lt;int&gt; | miesiąc &lt;chr&gt; | rok &lt;int&gt; | jęczmień_1dt &lt;dbl&gt; | pszenżyto_1dt &lt;dbl&gt; | owies_1dt &lt;dbl&gt; | kukurydza_1dt &lt;dbl&gt; | bydlo_1kg &lt;dbl&gt; | mleko_1hl &lt;dbl&gt; |\n|---|---|---|---|---|---|---|---|---|---|\n| 1 |  1 | styczeń  | 2018 | 67.59 | 62.06 | 52.01 | 59.65 | 6.58 | 142.12 |\n| 2 |  8 | luty     | 2018 | 67.33 | 61.37 | 52.29 | 60.46 | 6.47 | 135.24 |\n| 3 | 15 | marzec   | 2018 | 67.08 | 61.86 | 51.87 | 61.81 | 6.34 | 134.20 |\n| 4 | 22 | kwiecień | 2018 | 67.35 | 62.37 | 51.85 | 62.35 | 6.58 | 132.17 |\n| 5 | 29 | maj      | 2018 | 66.19 | 62.44 | 53.30 | 64.78 | 6.63 | 129.20 |\n| 6 | 36 | czerwiec | 2018 | 65.47 | 63.72 | 54.41 | 67.09 | 6.49 | 128.52 |\n\n",
            "text/latex": "A data.frame: 6 × 9\n\\begin{tabular}{r|lllllllll}\n  & x & miesiąc & rok & jęczmień\\_1dt & pszenżyto\\_1dt & owies\\_1dt & kukurydza\\_1dt & bydlo\\_1kg & mleko\\_1hl\\\\\n  & <int> & <chr> & <int> & <dbl> & <dbl> & <dbl> & <dbl> & <dbl> & <dbl>\\\\\n\\hline\n\t1 &  1 & styczeń  & 2018 & 67.59 & 62.06 & 52.01 & 59.65 & 6.58 & 142.12\\\\\n\t2 &  8 & luty     & 2018 & 67.33 & 61.37 & 52.29 & 60.46 & 6.47 & 135.24\\\\\n\t3 & 15 & marzec   & 2018 & 67.08 & 61.86 & 51.87 & 61.81 & 6.34 & 134.20\\\\\n\t4 & 22 & kwiecień & 2018 & 67.35 & 62.37 & 51.85 & 62.35 & 6.58 & 132.17\\\\\n\t5 & 29 & maj      & 2018 & 66.19 & 62.44 & 53.30 & 64.78 & 6.63 & 129.20\\\\\n\t6 & 36 & czerwiec & 2018 & 65.47 & 63.72 & 54.41 & 67.09 & 6.49 & 128.52\\\\\n\\end{tabular}\n",
            "text/plain": [
              "  x  miesiąc  rok  jęczmień_1dt pszenżyto_1dt owies_1dt kukurydza_1dt bydlo_1kg\n",
              "1  1 styczeń  2018 67.59        62.06         52.01     59.65         6.58     \n",
              "2  8 luty     2018 67.33        61.37         52.29     60.46         6.47     \n",
              "3 15 marzec   2018 67.08        61.86         51.87     61.81         6.34     \n",
              "4 22 kwiecień 2018 67.35        62.37         51.85     62.35         6.58     \n",
              "5 29 maj      2018 66.19        62.44         53.30     64.78         6.63     \n",
              "6 36 czerwiec 2018 65.47        63.72         54.41     67.09         6.49     \n",
              "  mleko_1hl\n",
              "1 142.12   \n",
              "2 135.24   \n",
              "3 134.20   \n",
              "4 132.17   \n",
              "5 129.20   \n",
              "6 128.52   "
            ]
          },
          "metadata": {}
        }
      ]
    },
    {
      "cell_type": "code",
      "source": [
        "mleko = na.omit(dane$mleko_1hl)\n",
        "jeczmien =  na.omit(dane$jęczmień_1dt)\n",
        "pszenzyto =  na.omit(dane$pszenżyto_1dt)\n",
        "owies =  na.omit(dane$owies_1dt)\n",
        "kukurydza =  na.omit(dane$kukurydza_1dt)\n",
        "bydlo =  na.omit(dane$bydlo_1kg)"
      ],
      "metadata": {
        "id": "wY_FRDI2pyYI"
      },
      "execution_count": 7,
      "outputs": []
    },
    {
      "cell_type": "markdown",
      "source": [
        "## wybór zmiennych objaśniających"
      ],
      "metadata": {
        "id": "DIckCeNepq91"
      }
    },
    {
      "cell_type": "markdown",
      "source": [
        "Idea doboru zmiennych objaśniających:\n",
        "\n",
        "• możliwie silnie skorelowane ze zmienną objaśnianą (y)\n",
        "\n",
        "• możliwie słabo skorelowane między sobą"
      ],
      "metadata": {
        "id": "4V9UHruHp5wG"
      }
    },
    {
      "cell_type": "code",
      "source": [
        "cor(mleko, jeczmien)\n",
        "cor(mleko, pszenzyto)\n",
        "cor(mleko, owies)\n",
        "cor(mleko, kukurydza)\n",
        "cor(mleko, bydlo)"
      ],
      "metadata": {
        "colab": {
          "base_uri": "https://localhost:8080/",
          "height": 104
        },
        "id": "ko01JYXmpwKr",
        "outputId": "0c3f75f0-a656-48ac-e4f4-7b9b30578dd2"
      },
      "execution_count": 8,
      "outputs": [
        {
          "output_type": "display_data",
          "data": {
            "text/html": [
              "0.772537096007369"
            ],
            "text/markdown": "0.772537096007369",
            "text/latex": "0.772537096007369",
            "text/plain": [
              "[1] 0.7725371"
            ]
          },
          "metadata": {}
        },
        {
          "output_type": "display_data",
          "data": {
            "text/html": [
              "0.745908708901161"
            ],
            "text/markdown": "0.745908708901161",
            "text/latex": "0.745908708901161",
            "text/plain": [
              "[1] 0.7459087"
            ]
          },
          "metadata": {}
        },
        {
          "output_type": "display_data",
          "data": {
            "text/html": [
              "0.923247315904104"
            ],
            "text/markdown": "0.923247315904104",
            "text/latex": "0.923247315904104",
            "text/plain": [
              "[1] 0.9232473"
            ]
          },
          "metadata": {}
        },
        {
          "output_type": "display_data",
          "data": {
            "text/html": [
              "0.663229015768992"
            ],
            "text/markdown": "0.663229015768992",
            "text/latex": "0.663229015768992",
            "text/plain": [
              "[1] 0.663229"
            ]
          },
          "metadata": {}
        },
        {
          "output_type": "display_data",
          "data": {
            "text/html": [
              "0.942948251554899"
            ],
            "text/markdown": "0.942948251554899",
            "text/latex": "0.942948251554899",
            "text/plain": [
              "[1] 0.9429483"
            ]
          },
          "metadata": {}
        }
      ]
    },
    {
      "cell_type": "markdown",
      "source": [
        "## transformacja danych"
      ],
      "metadata": {
        "id": "z25dP3gjqB1g"
      }
    },
    {
      "cell_type": "markdown",
      "source": [
        "### jeczmien"
      ],
      "metadata": {
        "id": "fyDEL0kvrYG_"
      }
    },
    {
      "cell_type": "code",
      "source": [
        "plot(mleko,jeczmien)"
      ],
      "metadata": {
        "colab": {
          "base_uri": "https://localhost:8080/",
          "height": 437
        },
        "id": "uQhtQXw3rUgp",
        "outputId": "e385145c-dddd-4160-f4a0-df5451e727df"
      },
      "execution_count": 15,
      "outputs": [
        {
          "output_type": "display_data",
          "data": {
            "text/plain": [
              "plot without title"
            ],
            "image/png": "[encoded data removed]"
          },
          "metadata": {
            "image/png": {
              "width": 420,
              "height": 420
            }
          }
        }
      ]
    },
    {
      "cell_type": "markdown",
      "source": [
        "zależność nieliniowa"
      ],
      "metadata": {
        "id": "NNddJkFirc3G"
      }
    },
    {
      "cell_type": "code",
      "source": [
        "z1 = log(jeczmien)\n",
        "cor(mleko, z1)\n",
        "\n",
        "z2 = sqrt(jeczmien)\n",
        "cor(mleko, z2)"
      ],
      "metadata": {
        "colab": {
          "base_uri": "https://localhost:8080/",
          "height": 52
        },
        "id": "fyW00DZEqBQq",
        "outputId": "e7891df1-ff0f-4a25-9a2c-e49d89e6ee7e"
      },
      "execution_count": 21,
      "outputs": [
        {
          "output_type": "display_data",
          "data": {
            "text/html": [
              "0.782017285727768"
            ],
            "text/markdown": "0.782017285727768",
            "text/latex": "0.782017285727768",
            "text/plain": [
              "[1] 0.7820173"
            ]
          },
          "metadata": {}
        },
        {
          "output_type": "display_data",
          "data": {
            "text/html": [
              "0.778263448416994"
            ],
            "text/markdown": "0.778263448416994",
            "text/latex": "0.778263448416994",
            "text/plain": [
              "[1] 0.7782634"
            ]
          },
          "metadata": {}
        }
      ]
    },
    {
      "cell_type": "code",
      "source": [
        "plot(mleko,z2)"
      ],
      "metadata": {
        "colab": {
          "base_uri": "https://localhost:8080/",
          "height": 437
        },
        "id": "srKA8Tmsr4EF",
        "outputId": "dacc6c44-cdd5-4bb9-836e-6d2989d7b9ec"
      },
      "execution_count": 22,
      "outputs": [
        {
          "output_type": "display_data",
          "data": {
            "text/plain": [
              "plot without title"
            ],
            "image/png": "[encoded data removed]"
          },
          "metadata": {
            "image/png": {
              "width": 420,
              "height": 420
            }
          }
        }
      ]
    },
    {
      "cell_type": "markdown",
      "source": [
        "### owies"
      ],
      "metadata": {
        "id": "OSNLyu9nvk3n"
      }
    },
    {
      "cell_type": "code",
      "source": [
        "plot(mleko,owies)\n",
        "cor.test(mleko,owies)"
      ],
      "metadata": {
        "colab": {
          "base_uri": "https://localhost:8080/",
          "height": 628
        },
        "id": "-zdciILlvm6-",
        "outputId": "6f586e3a-52bd-4446-eb7e-4452b02ad8d5"
      },
      "execution_count": 36,
      "outputs": [
        {
          "output_type": "display_data",
          "data": {
            "text/plain": [
              "\n",
              "\tPearson's product-moment correlation\n",
              "\n",
              "data:  mleko and owies\n",
              "t = 21.627, df = 81, p-value < 2.2e-16\n",
              "alternative hypothesis: true correlation is not equal to 0\n",
              "95 percent confidence interval:\n",
              " 0.8834918 0.9497988\n",
              "sample estimates:\n",
              "      cor \n",
              "0.9232473 \n"
            ]
          },
          "metadata": {}
        },
        {
          "output_type": "display_data",
          "data": {
            "text/plain": [
              "plot without title"
            ],
            "image/png": "[encoded data removed]"
          },
          "metadata": {
            "image/png": {
              "width": 420,
              "height": 420
            }
          }
        }
      ]
    },
    {
      "cell_type": "code",
      "source": [
        "owies_z1 = owies^2\n",
        "cor.test(mleko,owies_z1)"
      ],
      "metadata": {
        "colab": {
          "base_uri": "https://localhost:8080/",
          "height": 208
        },
        "id": "fKIQxoKBvvPo",
        "outputId": "0778fc6f-91c4-470e-9647-069748c279e2"
      },
      "execution_count": 37,
      "outputs": [
        {
          "output_type": "display_data",
          "data": {
            "text/plain": [
              "\n",
              "\tPearson's product-moment correlation\n",
              "\n",
              "data:  mleko and owies_z1\n",
              "t = 19.848, df = 81, p-value < 2.2e-16\n",
              "alternative hypothesis: true correlation is not equal to 0\n",
              "95 percent confidence interval:\n",
              " 0.8649657 0.9414888\n",
              "sample estimates:\n",
              "      cor \n",
              "0.9107432 \n"
            ]
          },
          "metadata": {}
        }
      ]
    }
  ]
}