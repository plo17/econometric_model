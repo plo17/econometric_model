{
  "nbformat": 4,
  "nbformat_minor": 0,
  "metadata": {
    "colab": {
      "provenance": [],
      "collapsed_sections": [
        "VYHFlV05bvvE",
        "4TPPe0R5carn"
      ]
    },
    "kernelspec": {
      "name": "ir",
      "display_name": "R"
    },
    "language_info": {
      "name": "R"
    }
  },
  "cells": [
    {
      "cell_type": "code",
      "source": [
        "install.packages(\"tidyr\")\n",
        "install.packages(\"psych\")\n",
        "install.packages(\"car\")\n",
        "install.packages(\"lmtest\")\n",
        "\n",
        "library(\"lmtest\")\n",
        "library(\"car\")\n",
        "library(\"psych\")\n",
        "library(\"tidyr\")\n",
        "library(\"dplyr\")"
      ],
      "metadata": {
        "colab": {
          "base_uri": "https://localhost:8080/"
        },
        "id": "n1EuZWLObnLI",
        "outputId": "eb1ab5b3-feec-410c-fac3-9d83c6f68387"
      },
      "execution_count": 1,
      "outputs": [
        {
          "output_type": "stream",
          "name": "stderr",
          "text": [
            "Installing package into ‘/usr/local/lib/R/site-library’\n",
            "(as ‘lib’ is unspecified)\n",
            "\n",
            "Installing package into ‘/usr/local/lib/R/site-library’\n",
            "(as ‘lib’ is unspecified)\n",
            "\n",
            "also installing the dependencies ‘mnormt’, ‘GPArotation’\n",
            "\n",
            "\n",
            "Installing package into ‘/usr/local/lib/R/site-library’\n",
            "(as ‘lib’ is unspecified)\n",
            "\n",
            "also installing the dependencies ‘rbibutils’, ‘cowplot’, ‘Deriv’, ‘microbenchmark’, ‘Rdpack’, ‘numDeriv’, ‘doBy’, ‘SparseM’, ‘MatrixModels’, ‘minqa’, ‘nloptr’, ‘reformulas’, ‘RcppEigen’, ‘carData’, ‘abind’, ‘Formula’, ‘pbkrtest’, ‘quantreg’, ‘lme4’\n",
            "\n",
            "\n",
            "Installing package into ‘/usr/local/lib/R/site-library’\n",
            "(as ‘lib’ is unspecified)\n",
            "\n",
            "also installing the dependency ‘zoo’\n",
            "\n",
            "\n",
            "Loading required package: zoo\n",
            "\n",
            "\n",
            "Attaching package: ‘zoo’\n",
            "\n",
            "\n",
            "The following objects are masked from ‘package:base’:\n",
            "\n",
            "    as.Date, as.Date.numeric\n",
            "\n",
            "\n",
            "Loading required package: carData\n",
            "\n",
            "\n",
            "Attaching package: ‘psych’\n",
            "\n",
            "\n",
            "The following object is masked from ‘package:car’:\n",
            "\n",
            "    logit\n",
            "\n",
            "\n"
          ]
        }
      ]
    },
    {
      "cell_type": "markdown",
      "source": [
        "##wczytanie danych"
      ],
      "metadata": {
        "id": "VYHFlV05bvvE"
      }
    },
    {
      "cell_type": "code",
      "source": [
        "dane <- read.csv2(\"/content/ceny_produktow_rolniczych.csv\")\n",
        "dane <- dane %>% select(-X, -Okresy, -Rok)"
      ],
      "metadata": {
        "id": "6houQBvsczfL"
      },
      "execution_count": 125,
      "outputs": []
    },
    {
      "cell_type": "code",
      "source": [
        "names(dane) <- c(\"jeczmien\", \"pszenzyto\", \"owies\", \"kukurydza\", \"bydlo\", \"mleko\")"
      ],
      "metadata": {
        "id": "pq7QKOdlAE9T"
      },
      "execution_count": 126,
      "outputs": []
    },
    {
      "cell_type": "code",
      "source": [
        "str(dane)"
      ],
      "metadata": {
        "colab": {
          "base_uri": "https://localhost:8080/"
        },
        "id": "ELKvaeSgjtj3",
        "outputId": "30b5bfd0-0e42-4f82-be4b-0ce68229f286"
      },
      "execution_count": 105,
      "outputs": [
        {
          "output_type": "stream",
          "name": "stdout",
          "text": [
            "'data.frame':\t84 obs. of  6 variables:\n",
            " $ jeczmien : num  67.6 67.3 67.1 67.3 66.2 ...\n",
            " $ pszenzyto: num  62.1 61.4 61.9 62.4 62.4 ...\n",
            " $ owies    : num  52 52.3 51.9 51.9 53.3 ...\n",
            " $ kukurydza: num  59.6 60.5 61.8 62.4 64.8 ...\n",
            " $ bydlo    : num  6.58 6.47 6.34 6.58 6.63 6.49 6.42 6.52 6.48 6.51 ...\n",
            " $ mleko    : num  142 135 134 132 129 ...\n"
          ]
        }
      ]
    },
    {
      "cell_type": "markdown",
      "source": [
        "### określenie zbiorów"
      ],
      "metadata": {
        "id": "xfnxDt9kAoPV"
      }
    },
    {
      "cell_type": "code",
      "source": [
        "trening = dane[1:67,]\n",
        "test = dane[68:83,]"
      ],
      "metadata": {
        "id": "YvLh9RiDAsHC"
      },
      "execution_count": 127,
      "outputs": []
    },
    {
      "cell_type": "code",
      "source": [
        "head(trening)"
      ],
      "metadata": {
        "id": "zU-6KNbjBBNV",
        "outputId": "ff711ccb-c800-46b0-9f11-ce1cdfd433bf",
        "colab": {
          "base_uri": "https://localhost:8080/",
          "height": 286
        }
      },
      "execution_count": 108,
      "outputs": [
        {
          "output_type": "display_data",
          "data": {
            "text/html": [
              "<table class=\"dataframe\">\n",
              "<caption>A data.frame: 6 × 6</caption>\n",
              "<thead>\n",
              "\t<tr><th></th><th scope=col>jeczmien</th><th scope=col>pszenzyto</th><th scope=col>owies</th><th scope=col>kukurydza</th><th scope=col>bydlo</th><th scope=col>mleko</th></tr>\n",
              "\t<tr><th></th><th scope=col>&lt;dbl&gt;</th><th scope=col>&lt;dbl&gt;</th><th scope=col>&lt;dbl&gt;</th><th scope=col>&lt;dbl&gt;</th><th scope=col>&lt;dbl&gt;</th><th scope=col>&lt;dbl&gt;</th></tr>\n",
              "</thead>\n",
              "<tbody>\n",
              "\t<tr><th scope=row>1</th><td>67.59</td><td>62.06</td><td>52.01</td><td>59.65</td><td>6.58</td><td>142.12</td></tr>\n",
              "\t<tr><th scope=row>2</th><td>67.33</td><td>61.37</td><td>52.29</td><td>60.46</td><td>6.47</td><td>135.24</td></tr>\n",
              "\t<tr><th scope=row>3</th><td>67.08</td><td>61.86</td><td>51.87</td><td>61.81</td><td>6.34</td><td>134.20</td></tr>\n",
              "\t<tr><th scope=row>4</th><td>67.35</td><td>62.37</td><td>51.85</td><td>62.35</td><td>6.58</td><td>132.17</td></tr>\n",
              "\t<tr><th scope=row>5</th><td>66.19</td><td>62.44</td><td>53.30</td><td>64.78</td><td>6.63</td><td>129.20</td></tr>\n",
              "\t<tr><th scope=row>6</th><td>65.47</td><td>63.72</td><td>54.41</td><td>67.09</td><td>6.49</td><td>128.52</td></tr>\n",
              "</tbody>\n",
              "</table>\n"
            ],
            "text/markdown": "\nA data.frame: 6 × 6\n\n| <!--/--> | jeczmien &lt;dbl&gt; | pszenzyto &lt;dbl&gt; | owies &lt;dbl&gt; | kukurydza &lt;dbl&gt; | bydlo &lt;dbl&gt; | mleko &lt;dbl&gt; |\n|---|---|---|---|---|---|---|\n| 1 | 67.59 | 62.06 | 52.01 | 59.65 | 6.58 | 142.12 |\n| 2 | 67.33 | 61.37 | 52.29 | 60.46 | 6.47 | 135.24 |\n| 3 | 67.08 | 61.86 | 51.87 | 61.81 | 6.34 | 134.20 |\n| 4 | 67.35 | 62.37 | 51.85 | 62.35 | 6.58 | 132.17 |\n| 5 | 66.19 | 62.44 | 53.30 | 64.78 | 6.63 | 129.20 |\n| 6 | 65.47 | 63.72 | 54.41 | 67.09 | 6.49 | 128.52 |\n\n",
            "text/latex": "A data.frame: 6 × 6\n\\begin{tabular}{r|llllll}\n  & jeczmien & pszenzyto & owies & kukurydza & bydlo & mleko\\\\\n  & <dbl> & <dbl> & <dbl> & <dbl> & <dbl> & <dbl>\\\\\n\\hline\n\t1 & 67.59 & 62.06 & 52.01 & 59.65 & 6.58 & 142.12\\\\\n\t2 & 67.33 & 61.37 & 52.29 & 60.46 & 6.47 & 135.24\\\\\n\t3 & 67.08 & 61.86 & 51.87 & 61.81 & 6.34 & 134.20\\\\\n\t4 & 67.35 & 62.37 & 51.85 & 62.35 & 6.58 & 132.17\\\\\n\t5 & 66.19 & 62.44 & 53.30 & 64.78 & 6.63 & 129.20\\\\\n\t6 & 65.47 & 63.72 & 54.41 & 67.09 & 6.49 & 128.52\\\\\n\\end{tabular}\n",
            "text/plain": [
              "  jeczmien pszenzyto owies kukurydza bydlo mleko \n",
              "1 67.59    62.06     52.01 59.65     6.58  142.12\n",
              "2 67.33    61.37     52.29 60.46     6.47  135.24\n",
              "3 67.08    61.86     51.87 61.81     6.34  134.20\n",
              "4 67.35    62.37     51.85 62.35     6.58  132.17\n",
              "5 66.19    62.44     53.30 64.78     6.63  129.20\n",
              "6 65.47    63.72     54.41 67.09     6.49  128.52"
            ]
          },
          "metadata": {}
        }
      ]
    },
    {
      "cell_type": "markdown",
      "source": [
        "## model ekonometryczny"
      ],
      "metadata": {
        "id": "O20n_rHxkK0P"
      }
    },
    {
      "cell_type": "markdown",
      "source": [
        "CEL: modelujemy wpływ cen zboża na cene mleka\n",
        "\n",
        "zmienna zależna -- cena mleka\n",
        "\n",
        "zmienne niezależne -- ceny zboża, plus cena bydła"
      ],
      "metadata": {
        "id": "TIXUCjulkzYg"
      }
    },
    {
      "cell_type": "code",
      "source": [
        "colSums(is.na(trening))  # NA dla każdej kolumny"
      ],
      "metadata": {
        "colab": {
          "base_uri": "https://localhost:8080/",
          "height": 34
        },
        "id": "1CZjFcMNppnr",
        "outputId": "d1cdd058-ac27-4c19-fd0b-540370765c9a"
      },
      "execution_count": 129,
      "outputs": [
        {
          "output_type": "display_data",
          "data": {
            "text/html": [
              "<style>\n",
              ".dl-inline {width: auto; margin:0; padding: 0}\n",
              ".dl-inline>dt, .dl-inline>dd {float: none; width: auto; display: inline-block}\n",
              ".dl-inline>dt::after {content: \":\\0020\"; padding-right: .5ex}\n",
              ".dl-inline>dt:not(:first-of-type) {padding-left: .5ex}\n",
              "</style><dl class=dl-inline><dt>jeczmien</dt><dd>0</dd><dt>pszenzyto</dt><dd>0</dd><dt>owies</dt><dd>0</dd><dt>kukurydza</dt><dd>0</dd><dt>bydlo</dt><dd>0</dd><dt>mleko</dt><dd>0</dd></dl>\n"
            ],
            "text/markdown": "jeczmien\n:   0pszenzyto\n:   0owies\n:   0kukurydza\n:   0bydlo\n:   0mleko\n:   0\n\n",
            "text/latex": "\\begin{description*}\n\\item[jeczmien] 0\n\\item[pszenzyto] 0\n\\item[owies] 0\n\\item[kukurydza] 0\n\\item[bydlo] 0\n\\item[mleko] 0\n\\end{description*}\n",
            "text/plain": [
              " jeczmien pszenzyto     owies kukurydza     bydlo     mleko \n",
              "        0         0         0         0         0         0 "
            ]
          },
          "metadata": {}
        }
      ]
    },
    {
      "cell_type": "markdown",
      "source": [
        "### Dobór zmiennych objaśniających - analiza korelacji"
      ],
      "metadata": {
        "id": "HXuuec_W7nw3"
      }
    },
    {
      "cell_type": "markdown",
      "source": [
        "### Zboża"
      ],
      "metadata": {
        "id": "8ufJNU_W9Hpk"
      }
    },
    {
      "cell_type": "markdown",
      "source": [
        "Idea doboru zmiennych\n",
        "objaśniających:\n",
        "\n",
        "• możliwie silnie skorelowane ze zmienną\n",
        "objaśnianą (y)\n",
        "\n",
        "• możliwie słabo skorelowane między sobą"
      ],
      "metadata": {
        "id": "vh3GajpvCazi"
      }
    },
    {
      "cell_type": "code",
      "source": [
        "cor(trening$mleko, trening$jeczmien)\n",
        "cor(trening$mleko, trening$pszenzyto)\n",
        "cor(trening$mleko, trening$owies)\n",
        "cor(trening$mleko, trening$kukurydza)"
      ],
      "metadata": {
        "colab": {
          "base_uri": "https://localhost:8080/",
          "height": 86
        },
        "id": "Hw2GU_4z34IP",
        "outputId": "14a4e30b-d8e2-4c1c-faef-c11a6ea48b1b"
      },
      "execution_count": 133,
      "outputs": [
        {
          "output_type": "display_data",
          "data": {
            "text/html": [
              "0.916392367698858"
            ],
            "text/markdown": "0.916392367698858",
            "text/latex": "0.916392367698858",
            "text/plain": [
              "[1] 0.9163924"
            ]
          },
          "metadata": {}
        },
        {
          "output_type": "display_data",
          "data": {
            "text/html": [
              "0.914551519059733"
            ],
            "text/markdown": "0.914551519059733",
            "text/latex": "0.914551519059733",
            "text/plain": [
              "[1] 0.9145515"
            ]
          },
          "metadata": {}
        },
        {
          "output_type": "display_data",
          "data": {
            "text/html": [
              "0.954703209490156"
            ],
            "text/markdown": "0.954703209490156",
            "text/latex": "0.954703209490156",
            "text/plain": [
              "[1] 0.9547032"
            ]
          },
          "metadata": {}
        },
        {
          "output_type": "display_data",
          "data": {
            "text/html": [
              "0.852527437041301"
            ],
            "text/markdown": "0.852527437041301",
            "text/latex": "0.852527437041301",
            "text/plain": [
              "[1] 0.8525274"
            ]
          },
          "metadata": {}
        }
      ]
    },
    {
      "cell_type": "code",
      "source": [
        "#macierz korelacji\n",
        "korelacja = corr.test(trening)\n",
        "korelacja$r\n",
        "korelacja$p"
      ],
      "metadata": {
        "colab": {
          "base_uri": "https://localhost:8080/",
          "height": 492
        },
        "id": "9RHqkYqah6ZP",
        "outputId": "00f686d1-a0cf-477e-dc16-363b3eaf073b"
      },
      "execution_count": 134,
      "outputs": [
        {
          "output_type": "display_data",
          "data": {
            "text/html": [
              "<table class=\"dataframe\">\n",
              "<caption>A matrix: 6 × 6 of type dbl</caption>\n",
              "<thead>\n",
              "\t<tr><th></th><th scope=col>jeczmien</th><th scope=col>pszenzyto</th><th scope=col>owies</th><th scope=col>kukurydza</th><th scope=col>bydlo</th><th scope=col>mleko</th></tr>\n",
              "</thead>\n",
              "<tbody>\n",
              "\t<tr><th scope=row>jeczmien</th><td>1.0000000</td><td>0.9903047</td><td>0.9542461</td><td>0.8999328</td><td>0.9042169</td><td>0.9163924</td></tr>\n",
              "\t<tr><th scope=row>pszenzyto</th><td>0.9903047</td><td>1.0000000</td><td>0.9440939</td><td>0.9086009</td><td>0.9181126</td><td>0.9145515</td></tr>\n",
              "\t<tr><th scope=row>owies</th><td>0.9542461</td><td>0.9440939</td><td>1.0000000</td><td>0.8591847</td><td>0.9107811</td><td>0.9547032</td></tr>\n",
              "\t<tr><th scope=row>kukurydza</th><td>0.8999328</td><td>0.9086009</td><td>0.8591847</td><td>1.0000000</td><td>0.8859689</td><td>0.8525274</td></tr>\n",
              "\t<tr><th scope=row>bydlo</th><td>0.9042169</td><td>0.9181126</td><td>0.9107811</td><td>0.8859689</td><td>1.0000000</td><td>0.9444775</td></tr>\n",
              "\t<tr><th scope=row>mleko</th><td>0.9163924</td><td>0.9145515</td><td>0.9547032</td><td>0.8525274</td><td>0.9444775</td><td>1.0000000</td></tr>\n",
              "</tbody>\n",
              "</table>\n"
            ],
            "text/markdown": "\nA matrix: 6 × 6 of type dbl\n\n| <!--/--> | jeczmien | pszenzyto | owies | kukurydza | bydlo | mleko |\n|---|---|---|---|---|---|---|\n| jeczmien | 1.0000000 | 0.9903047 | 0.9542461 | 0.8999328 | 0.9042169 | 0.9163924 |\n| pszenzyto | 0.9903047 | 1.0000000 | 0.9440939 | 0.9086009 | 0.9181126 | 0.9145515 |\n| owies | 0.9542461 | 0.9440939 | 1.0000000 | 0.8591847 | 0.9107811 | 0.9547032 |\n| kukurydza | 0.8999328 | 0.9086009 | 0.8591847 | 1.0000000 | 0.8859689 | 0.8525274 |\n| bydlo | 0.9042169 | 0.9181126 | 0.9107811 | 0.8859689 | 1.0000000 | 0.9444775 |\n| mleko | 0.9163924 | 0.9145515 | 0.9547032 | 0.8525274 | 0.9444775 | 1.0000000 |\n\n",
            "text/latex": "A matrix: 6 × 6 of type dbl\n\\begin{tabular}{r|llllll}\n  & jeczmien & pszenzyto & owies & kukurydza & bydlo & mleko\\\\\n\\hline\n\tjeczmien & 1.0000000 & 0.9903047 & 0.9542461 & 0.8999328 & 0.9042169 & 0.9163924\\\\\n\tpszenzyto & 0.9903047 & 1.0000000 & 0.9440939 & 0.9086009 & 0.9181126 & 0.9145515\\\\\n\towies & 0.9542461 & 0.9440939 & 1.0000000 & 0.8591847 & 0.9107811 & 0.9547032\\\\\n\tkukurydza & 0.8999328 & 0.9086009 & 0.8591847 & 1.0000000 & 0.8859689 & 0.8525274\\\\\n\tbydlo & 0.9042169 & 0.9181126 & 0.9107811 & 0.8859689 & 1.0000000 & 0.9444775\\\\\n\tmleko & 0.9163924 & 0.9145515 & 0.9547032 & 0.8525274 & 0.9444775 & 1.0000000\\\\\n\\end{tabular}\n",
            "text/plain": [
              "          jeczmien  pszenzyto owies     kukurydza bydlo     mleko    \n",
              "jeczmien  1.0000000 0.9903047 0.9542461 0.8999328 0.9042169 0.9163924\n",
              "pszenzyto 0.9903047 1.0000000 0.9440939 0.9086009 0.9181126 0.9145515\n",
              "owies     0.9542461 0.9440939 1.0000000 0.8591847 0.9107811 0.9547032\n",
              "kukurydza 0.8999328 0.9086009 0.8591847 1.0000000 0.8859689 0.8525274\n",
              "bydlo     0.9042169 0.9181126 0.9107811 0.8859689 1.0000000 0.9444775\n",
              "mleko     0.9163924 0.9145515 0.9547032 0.8525274 0.9444775 1.0000000"
            ]
          },
          "metadata": {}
        },
        {
          "output_type": "display_data",
          "data": {
            "text/html": [
              "<table class=\"dataframe\">\n",
              "<caption>A matrix: 6 × 6 of type dbl</caption>\n",
              "<thead>\n",
              "\t<tr><th></th><th scope=col>jeczmien</th><th scope=col>pszenzyto</th><th scope=col>owies</th><th scope=col>kukurydza</th><th scope=col>bydlo</th><th scope=col>mleko</th></tr>\n",
              "</thead>\n",
              "<tbody>\n",
              "\t<tr><th scope=row>jeczmien</th><td>0.000000e+00</td><td>2.832208e-56</td><td>1.117370e-34</td><td>1.616695e-24</td><td>5.220852e-25</td><td>1.375569e-26</td></tr>\n",
              "\t<tr><th scope=row>pszenzyto</th><td>1.888139e-57</td><td>0.000000e+00</td><td>5.434078e-32</td><td>1.465850e-25</td><td>7.992509e-27</td><td>2.409941e-26</td></tr>\n",
              "\t<tr><th scope=row>owies</th><td>8.595152e-36</td><td>4.940071e-33</td><td>0.000000e+00</td><td>2.770674e-20</td><td>8.079486e-26</td><td>8.745076e-35</td></tr>\n",
              "\t<tr><th scope=row>kukurydza</th><td>4.041738e-25</td><td>2.443083e-26</td><td>1.385337e-20</td><td>0.000000e+00</td><td>6.759111e-23</td><td>5.573992e-20</td></tr>\n",
              "\t<tr><th scope=row>bydlo</th><td>1.044170e-25</td><td>7.992509e-28</td><td>1.154212e-26</td><td>2.253037e-23</td><td>0.000000e+00</td><td>4.768154e-32</td></tr>\n",
              "\t<tr><th scope=row>mleko</th><td>1.528410e-27</td><td>3.012427e-27</td><td>6.246483e-36</td><td>5.573992e-20</td><td>3.973462e-33</td><td>0.000000e+00</td></tr>\n",
              "</tbody>\n",
              "</table>\n"
            ],
            "text/markdown": "\nA matrix: 6 × 6 of type dbl\n\n| <!--/--> | jeczmien | pszenzyto | owies | kukurydza | bydlo | mleko |\n|---|---|---|---|---|---|---|\n| jeczmien | 0.000000e+00 | 2.832208e-56 | 1.117370e-34 | 1.616695e-24 | 5.220852e-25 | 1.375569e-26 |\n| pszenzyto | 1.888139e-57 | 0.000000e+00 | 5.434078e-32 | 1.465850e-25 | 7.992509e-27 | 2.409941e-26 |\n| owies | 8.595152e-36 | 4.940071e-33 | 0.000000e+00 | 2.770674e-20 | 8.079486e-26 | 8.745076e-35 |\n| kukurydza | 4.041738e-25 | 2.443083e-26 | 1.385337e-20 | 0.000000e+00 | 6.759111e-23 | 5.573992e-20 |\n| bydlo | 1.044170e-25 | 7.992509e-28 | 1.154212e-26 | 2.253037e-23 | 0.000000e+00 | 4.768154e-32 |\n| mleko | 1.528410e-27 | 3.012427e-27 | 6.246483e-36 | 5.573992e-20 | 3.973462e-33 | 0.000000e+00 |\n\n",
            "text/latex": "A matrix: 6 × 6 of type dbl\n\\begin{tabular}{r|llllll}\n  & jeczmien & pszenzyto & owies & kukurydza & bydlo & mleko\\\\\n\\hline\n\tjeczmien & 0.000000e+00 & 2.832208e-56 & 1.117370e-34 & 1.616695e-24 & 5.220852e-25 & 1.375569e-26\\\\\n\tpszenzyto & 1.888139e-57 & 0.000000e+00 & 5.434078e-32 & 1.465850e-25 & 7.992509e-27 & 2.409941e-26\\\\\n\towies & 8.595152e-36 & 4.940071e-33 & 0.000000e+00 & 2.770674e-20 & 8.079486e-26 & 8.745076e-35\\\\\n\tkukurydza & 4.041738e-25 & 2.443083e-26 & 1.385337e-20 & 0.000000e+00 & 6.759111e-23 & 5.573992e-20\\\\\n\tbydlo & 1.044170e-25 & 7.992509e-28 & 1.154212e-26 & 2.253037e-23 & 0.000000e+00 & 4.768154e-32\\\\\n\tmleko & 1.528410e-27 & 3.012427e-27 & 6.246483e-36 & 5.573992e-20 & 3.973462e-33 & 0.000000e+00\\\\\n\\end{tabular}\n",
            "text/plain": [
              "          jeczmien     pszenzyto    owies        kukurydza    bydlo       \n",
              "jeczmien  0.000000e+00 2.832208e-56 1.117370e-34 1.616695e-24 5.220852e-25\n",
              "pszenzyto 1.888139e-57 0.000000e+00 5.434078e-32 1.465850e-25 7.992509e-27\n",
              "owies     8.595152e-36 4.940071e-33 0.000000e+00 2.770674e-20 8.079486e-26\n",
              "kukurydza 4.041738e-25 2.443083e-26 1.385337e-20 0.000000e+00 6.759111e-23\n",
              "bydlo     1.044170e-25 7.992509e-28 1.154212e-26 2.253037e-23 0.000000e+00\n",
              "mleko     1.528410e-27 3.012427e-27 6.246483e-36 5.573992e-20 3.973462e-33\n",
              "          mleko       \n",
              "jeczmien  1.375569e-26\n",
              "pszenzyto 2.409941e-26\n",
              "owies     8.745076e-35\n",
              "kukurydza 5.573992e-20\n",
              "bydlo     4.768154e-32\n",
              "mleko     0.000000e+00"
            ]
          },
          "metadata": {}
        }
      ]
    },
    {
      "cell_type": "markdown",
      "source": [
        "Wszystkie zmienne wykazują bardzo silną korelacje"
      ],
      "metadata": {
        "id": "iuVJM7GseU5g"
      }
    },
    {
      "cell_type": "markdown",
      "source": [
        "## regresja krokowa"
      ],
      "metadata": {
        "id": "s2IZN3eObmlx"
      }
    },
    {
      "cell_type": "code",
      "source": [
        "model = lm(mleko ~ . -bydlo, data = trening)\n",
        "summary(model)"
      ],
      "metadata": {
        "colab": {
          "base_uri": "https://localhost:8080/",
          "height": 400
        },
        "id": "Ivqo3a23bpU-",
        "outputId": "8aae9669-194e-460d-8c72-597a258c782f"
      },
      "execution_count": 139,
      "outputs": [
        {
          "output_type": "display_data",
          "data": {
            "text/plain": [
              "\n",
              "Call:\n",
              "lm(formula = mleko ~ . - bydlo, data = trening)\n",
              "\n",
              "Residuals:\n",
              "     Min       1Q   Median       3Q      Max \n",
              "-22.6502  -8.3957   0.2675   7.7496  22.2127 \n",
              "\n",
              "Coefficients:\n",
              "            Estimate Std. Error t value Pr(>|t|)    \n",
              "(Intercept)  43.1886     6.6926   6.453 1.88e-08 ***\n",
              "jeczmien     -0.5750     0.4813  -1.195    0.237    \n",
              "pszenzyto     0.4534     0.4124   1.099    0.276    \n",
              "owies         1.5283     0.2074   7.368 4.95e-10 ***\n",
              "kukurydza     0.1916     0.1435   1.336    0.186    \n",
              "---\n",
              "Signif. codes:  0 ‘***’ 0.001 ‘**’ 0.01 ‘*’ 0.05 ‘.’ 0.1 ‘ ’ 1\n",
              "\n",
              "Residual standard error: 12.35 on 62 degrees of freedom\n",
              "Multiple R-squared:  0.9174,\tAdjusted R-squared:  0.912 \n",
              "F-statistic: 172.1 on 4 and 62 DF,  p-value: < 2.2e-16\n"
            ]
          },
          "metadata": {}
        }
      ]
    },
    {
      "cell_type": "code",
      "source": [
        "#usunięcie zmiennej pszenzyto (max pvalue)\n",
        "model2 = lm(mleko ~ owies + kukurydza + jeczmien, data = trening)\n",
        "summary(model2)"
      ],
      "metadata": {
        "colab": {
          "base_uri": "https://localhost:8080/",
          "height": 382
        },
        "id": "PmGYL2t0grsL",
        "outputId": "c3aec9c3-52e2-47ff-d209-92ab2bda6e17"
      },
      "execution_count": 140,
      "outputs": [
        {
          "output_type": "display_data",
          "data": {
            "text/plain": [
              "\n",
              "Call:\n",
              "lm(formula = mleko ~ owies + kukurydza + jeczmien, data = trening)\n",
              "\n",
              "Residuals:\n",
              "     Min       1Q   Median       3Q      Max \n",
              "-21.6123  -6.7410  -0.0153   7.9660  22.3142 \n",
              "\n",
              "Coefficients:\n",
              "            Estimate Std. Error t value Pr(>|t|)    \n",
              "(Intercept)  39.1696     5.6155   6.975 2.21e-09 ***\n",
              "owies         1.5229     0.2077   7.332 5.26e-10 ***\n",
              "kukurydza     0.2370     0.1376   1.722    0.090 .  \n",
              "jeczmien     -0.1150     0.2383  -0.482    0.631    \n",
              "---\n",
              "Signif. codes:  0 ‘***’ 0.001 ‘**’ 0.01 ‘*’ 0.05 ‘.’ 0.1 ‘ ’ 1\n",
              "\n",
              "Residual standard error: 12.37 on 63 degrees of freedom\n",
              "Multiple R-squared:  0.9157,\tAdjusted R-squared:  0.9117 \n",
              "F-statistic: 228.2 on 3 and 63 DF,  p-value: < 2.2e-16\n"
            ]
          },
          "metadata": {}
        }
      ]
    },
    {
      "cell_type": "code",
      "source": [
        "#usunięcie zmiennej jeczmien\n",
        "model3 = lm(mleko~owies+pszenzyto, data = trening)\n",
        "summary(model3)"
      ],
      "metadata": {
        "colab": {
          "base_uri": "https://localhost:8080/",
          "height": 363
        },
        "id": "uBeZY1cphQSn",
        "outputId": "76916dfa-32eb-4315-880c-3180202bfa45"
      },
      "execution_count": 141,
      "outputs": [
        {
          "output_type": "display_data",
          "data": {
            "text/plain": [
              "\n",
              "Call:\n",
              "lm(formula = mleko ~ owies + pszenzyto, data = trening)\n",
              "\n",
              "Residuals:\n",
              "    Min      1Q  Median      3Q     Max \n",
              "-22.457  -7.959   2.225   7.982  23.884 \n",
              "\n",
              "Coefficients:\n",
              "            Estimate Std. Error t value Pr(>|t|)    \n",
              "(Intercept)  41.0959     5.0509   8.136 1.85e-11 ***\n",
              "owies         1.4264     0.1899   7.513 2.33e-10 ***\n",
              "pszenzyto     0.1828     0.1680   1.088    0.281    \n",
              "---\n",
              "Signif. codes:  0 ‘***’ 0.001 ‘**’ 0.01 ‘*’ 0.05 ‘.’ 0.1 ‘ ’ 1\n",
              "\n",
              "Residual standard error: 12.46 on 64 degrees of freedom\n",
              "Multiple R-squared:  0.9131,\tAdjusted R-squared:  0.9104 \n",
              "F-statistic: 336.1 on 2 and 64 DF,  p-value: < 2.2e-16\n"
            ]
          },
          "metadata": {}
        }
      ]
    },
    {
      "cell_type": "code",
      "source": [
        "model4 = lm(mleko~owies, data = trening)\n",
        "summary(model4)"
      ],
      "metadata": {
        "colab": {
          "base_uri": "https://localhost:8080/",
          "height": 345
        },
        "id": "_SbAFOFSWPgx",
        "outputId": "7519a55f-6b9b-476b-c9dc-35401d4bdd37"
      },
      "execution_count": 142,
      "outputs": [
        {
          "output_type": "display_data",
          "data": {
            "text/plain": [
              "\n",
              "Call:\n",
              "lm(formula = mleko ~ owies, data = trening)\n",
              "\n",
              "Residuals:\n",
              "     Min       1Q   Median       3Q      Max \n",
              "-23.5708  -8.0780   0.6779   9.2273  22.9984 \n",
              "\n",
              "Coefficients:\n",
              "            Estimate Std. Error t value Pr(>|t|)    \n",
              "(Intercept) 42.09881    4.97313   8.465 4.36e-12 ***\n",
              "owies        1.62145    0.06268  25.867  < 2e-16 ***\n",
              "---\n",
              "Signif. codes:  0 ‘***’ 0.001 ‘**’ 0.01 ‘*’ 0.05 ‘.’ 0.1 ‘ ’ 1\n",
              "\n",
              "Residual standard error: 12.48 on 65 degrees of freedom\n",
              "Multiple R-squared:  0.9115,\tAdjusted R-squared:  0.9101 \n",
              "F-statistic: 669.1 on 1 and 65 DF,  p-value: < 2.2e-16\n"
            ]
          },
          "metadata": {}
        }
      ]
    },
    {
      "cell_type": "markdown",
      "source": [
        "$y = \\alpha_0 + \\alpha_1 \\cdot owies + \\alpha_2 \\cdot bydło +\\epsilon$\n",
        "\n",
        "$mleko = 17.96 + 0.872 \\cdot owies + 11.53 \\cdot bydło + \\epsilon$"
      ],
      "metadata": {
        "id": "e6OFTzjt-HsC"
      }
    },
    {
      "cell_type": "markdown",
      "source": [
        "### Automatyczny dobór zmiennych objaśniających"
      ],
      "metadata": {
        "id": "fScFg-BxDiv5"
      }
    },
    {
      "cell_type": "code",
      "source": [
        "# automatyczna regresja krokowa z użyciem kryterium AIC\n",
        "full_model <- lm(mleko ~ . -bydlo, data = trening)\n",
        "model_auto <- step(full_model, direction = \"both\", trace = FALSE)\n",
        "\n",
        "summary(model_auto)"
      ],
      "metadata": {
        "colab": {
          "base_uri": "https://localhost:8080/",
          "height": 363
        },
        "id": "CoSSWmbJDKCs",
        "outputId": "51c30a4c-4676-49e6-b59f-92057a60c158"
      },
      "execution_count": 143,
      "outputs": [
        {
          "output_type": "display_data",
          "data": {
            "text/plain": [
              "\n",
              "Call:\n",
              "lm(formula = mleko ~ owies + kukurydza, data = trening)\n",
              "\n",
              "Residuals:\n",
              "     Min       1Q   Median       3Q      Max \n",
              "-21.3199  -6.9842  -0.4101   7.9162  23.2962 \n",
              "\n",
              "Coefficients:\n",
              "            Estimate Std. Error t value Pr(>|t|)    \n",
              "(Intercept)  38.3887     5.3447   7.183 8.89e-10 ***\n",
              "owies         1.4416     0.1207  11.948  < 2e-16 ***\n",
              "kukurydza     0.2022     0.1166   1.735   0.0876 .  \n",
              "---\n",
              "Signif. codes:  0 ‘***’ 0.001 ‘**’ 0.01 ‘*’ 0.05 ‘.’ 0.1 ‘ ’ 1\n",
              "\n",
              "Residual standard error: 12.29 on 64 degrees of freedom\n",
              "Multiple R-squared:  0.9154,\tAdjusted R-squared:  0.9128 \n",
              "F-statistic: 346.4 on 2 and 64 DF,  p-value: < 2.2e-16\n"
            ]
          },
          "metadata": {}
        }
      ]
    },
    {
      "cell_type": "markdown",
      "source": [
        "model otrzymany w wyniku regresji krokowej (oszacowane parametry modelu):\n",
        "\n",
        "$y = \\alpha_0 + \\alpha_1 \\cdot owies + \\alpha_2 \\cdot bydło -\\alpha_3 \\cdot kukurydza +\\epsilon$\n",
        "\n",
        "$mleko = 17.96 + 0.872 \\cdot owies + 11.53 \\cdot bydło - 0.118 \\cdot kukurydza+ \\epsilon$"
      ],
      "metadata": {
        "id": "km_4QmkQcgEo"
      }
    },
    {
      "cell_type": "code",
      "source": [
        "# Obliczenie współczynników VIF\n",
        "vif_values <- vif(model_auto)\n",
        "print(vif_values)"
      ],
      "metadata": {
        "colab": {
          "base_uri": "https://localhost:8080/"
        },
        "id": "L406qBfWZZBB",
        "outputId": "cd91d011-6c96-4c76-d807-0c4a6b5a515d"
      },
      "execution_count": 54,
      "outputs": [
        {
          "output_type": "stream",
          "name": "stdout",
          "text": [
            "    owies kukurydza     bydlo \n",
            " 4.771857  2.257995  3.600549 \n"
          ]
        }
      ]
    },
    {
      "cell_type": "markdown",
      "source": [
        "### zboże + bydło"
      ],
      "metadata": {
        "id": "KSFYJ-XYM2pJ"
      }
    },
    {
      "cell_type": "code",
      "source": [
        "model_all = lm(mleko ~ ., data = trening)\n",
        "summary(model_all)"
      ],
      "metadata": {
        "id": "Ez6q6SxRM-Co",
        "outputId": "5ea53606-6ff5-4de6-cf79-41965318fe7c",
        "colab": {
          "base_uri": "https://localhost:8080/",
          "height": 418
        }
      },
      "execution_count": 145,
      "outputs": [
        {
          "output_type": "display_data",
          "data": {
            "text/plain": [
              "\n",
              "Call:\n",
              "lm(formula = mleko ~ ., data = trening)\n",
              "\n",
              "Residuals:\n",
              "     Min       1Q   Median       3Q      Max \n",
              "-19.4296  -6.5450   0.0009   5.5834  26.0903 \n",
              "\n",
              "Coefficients:\n",
              "            Estimate Std. Error t value Pr(>|t|)    \n",
              "(Intercept) 17.69326    7.02221   2.520   0.0144 *  \n",
              "jeczmien     0.09940    0.40836   0.243   0.8085    \n",
              "pszenzyto   -0.25546    0.35711  -0.715   0.4771    \n",
              "owies        1.06233    0.18708   5.679 4.02e-07 ***\n",
              "kukurydza   -0.05091    0.12398  -0.411   0.6828    \n",
              "bydlo       10.73652    1.87119   5.738 3.21e-07 ***\n",
              "---\n",
              "Signif. codes:  0 ‘***’ 0.001 ‘**’ 0.01 ‘*’ 0.05 ‘.’ 0.1 ‘ ’ 1\n",
              "\n",
              "Residual standard error: 10.03 on 61 degrees of freedom\n",
              "Multiple R-squared:  0.9463,\tAdjusted R-squared:  0.9419 \n",
              "F-statistic: 215.1 on 5 and 61 DF,  p-value: < 2.2e-16\n"
            ]
          },
          "metadata": {}
        }
      ]
    },
    {
      "cell_type": "code",
      "source": [
        "model_all_1 = lm(mleko ~ . - jeczmien, data = trening)\n",
        "summary(model_all_1)"
      ],
      "metadata": {
        "id": "G32y0I7uNOr4",
        "outputId": "19920853-6281-4934-e731-d9d3b60106f0",
        "colab": {
          "base_uri": "https://localhost:8080/",
          "height": 400
        }
      },
      "execution_count": 146,
      "outputs": [
        {
          "output_type": "display_data",
          "data": {
            "text/plain": [
              "\n",
              "Call:\n",
              "lm(formula = mleko ~ . - jeczmien, data = trening)\n",
              "\n",
              "Residuals:\n",
              "     Min       1Q   Median       3Q      Max \n",
              "-19.6763  -6.6931  -0.1932   5.5263  26.4617 \n",
              "\n",
              "Coefficients:\n",
              "            Estimate Std. Error t value Pr(>|t|)    \n",
              "(Intercept)  18.7577     5.4525   3.440  0.00105 ** \n",
              "pszenzyto    -0.1789     0.1679  -1.066  0.29075    \n",
              "owies         1.0846     0.1620   6.696 7.21e-09 ***\n",
              "kukurydza    -0.0480     0.1225  -0.392  0.69642    \n",
              "bydlo        10.6054     1.7784   5.964 1.28e-07 ***\n",
              "---\n",
              "Signif. codes:  0 ‘***’ 0.001 ‘**’ 0.01 ‘*’ 0.05 ‘.’ 0.1 ‘ ’ 1\n",
              "\n",
              "Residual standard error: 9.954 on 62 degrees of freedom\n",
              "Multiple R-squared:  0.9463,\tAdjusted R-squared:  0.9428 \n",
              "F-statistic:   273 on 4 and 62 DF,  p-value: < 2.2e-16\n"
            ]
          },
          "metadata": {}
        }
      ]
    },
    {
      "cell_type": "code",
      "source": [
        "model_all_2 = lm(mleko ~ . - jeczmien - kukurydza, data = trening)\n",
        "summary(model_all_2)"
      ],
      "metadata": {
        "id": "qapjgN_sNb-7",
        "outputId": "0f5fd612-7310-4950-ba0e-cb950824ebfb",
        "colab": {
          "base_uri": "https://localhost:8080/",
          "height": 382
        }
      },
      "execution_count": 149,
      "outputs": [
        {
          "output_type": "display_data",
          "data": {
            "text/plain": [
              "\n",
              "Call:\n",
              "lm(formula = mleko ~ . - jeczmien - kukurydza, data = trening)\n",
              "\n",
              "Residuals:\n",
              "     Min       1Q   Median       3Q      Max \n",
              "-19.7489  -6.4656  -0.2891   5.3471  26.1510 \n",
              "\n",
              "Coefficients:\n",
              "            Estimate Std. Error t value Pr(>|t|)    \n",
              "(Intercept)  18.5900     5.3991   3.443  0.00103 ** \n",
              "pszenzyto    -0.2097     0.1474  -1.422  0.15999    \n",
              "owies         1.0913     0.1600   6.822 4.08e-09 ***\n",
              "bydlo        10.3764     1.6683   6.220 4.47e-08 ***\n",
              "---\n",
              "Signif. codes:  0 ‘***’ 0.001 ‘**’ 0.01 ‘*’ 0.05 ‘.’ 0.1 ‘ ’ 1\n",
              "\n",
              "Residual standard error: 9.887 on 63 degrees of freedom\n",
              "Multiple R-squared:  0.9461,\tAdjusted R-squared:  0.9436 \n",
              "F-statistic: 368.9 on 3 and 63 DF,  p-value: < 2.2e-16\n"
            ]
          },
          "metadata": {}
        }
      ]
    },
    {
      "cell_type": "code",
      "source": [
        "model_all_3 = lm(mleko ~ owies + bydlo, data = trening)\n",
        "summary(model_all_3)"
      ],
      "metadata": {
        "id": "PizANkvlNklU",
        "outputId": "72f8177d-9fd2-412b-d378-106922ae5a28",
        "colab": {
          "base_uri": "https://localhost:8080/",
          "height": 363
        }
      },
      "execution_count": 150,
      "outputs": [
        {
          "output_type": "display_data",
          "data": {
            "text/plain": [
              "\n",
              "Call:\n",
              "lm(formula = mleko ~ owies + bydlo, data = trening)\n",
              "\n",
              "Residuals:\n",
              "     Min       1Q   Median       3Q      Max \n",
              "-22.0807  -6.1648  -0.1011   6.1161  28.1162 \n",
              "\n",
              "Coefficients:\n",
              "            Estimate Std. Error t value Pr(>|t|)    \n",
              "(Intercept)  19.8521     5.3679   3.698 0.000453 ***\n",
              "owies         0.9414     0.1212   7.765 8.36e-11 ***\n",
              "bydlo         9.3613     1.5198   6.160 5.40e-08 ***\n",
              "---\n",
              "Signif. codes:  0 ‘***’ 0.001 ‘**’ 0.01 ‘*’ 0.05 ‘.’ 0.1 ‘ ’ 1\n",
              "\n",
              "Residual standard error: 9.965 on 64 degrees of freedom\n",
              "Multiple R-squared:  0.9444,\tAdjusted R-squared:  0.9427 \n",
              "F-statistic: 543.7 on 2 and 64 DF,  p-value: < 2.2e-16\n"
            ]
          },
          "metadata": {}
        }
      ]
    },
    {
      "cell_type": "code",
      "source": [
        "# automatyczna regresja krokowa z użyciem kryterium AIC\n",
        "full_model <- lm(mleko ~ ., data = trening)\n",
        "model_auto_all <- step(full_model, direction = \"both\", trace = FALSE)\n",
        "\n",
        "summary(model_auto_all)"
      ],
      "metadata": {
        "id": "qZgflcBSNukY",
        "outputId": "4fe478aa-0a54-4336-81f7-3dcc2b9af37b",
        "colab": {
          "base_uri": "https://localhost:8080/",
          "height": 382
        }
      },
      "execution_count": 152,
      "outputs": [
        {
          "output_type": "display_data",
          "data": {
            "text/plain": [
              "\n",
              "Call:\n",
              "lm(formula = mleko ~ pszenzyto + owies + bydlo, data = trening)\n",
              "\n",
              "Residuals:\n",
              "     Min       1Q   Median       3Q      Max \n",
              "-19.7489  -6.4656  -0.2891   5.3471  26.1510 \n",
              "\n",
              "Coefficients:\n",
              "            Estimate Std. Error t value Pr(>|t|)    \n",
              "(Intercept)  18.5900     5.3991   3.443  0.00103 ** \n",
              "pszenzyto    -0.2097     0.1474  -1.422  0.15999    \n",
              "owies         1.0913     0.1600   6.822 4.08e-09 ***\n",
              "bydlo        10.3764     1.6683   6.220 4.47e-08 ***\n",
              "---\n",
              "Signif. codes:  0 ‘***’ 0.001 ‘**’ 0.01 ‘*’ 0.05 ‘.’ 0.1 ‘ ’ 1\n",
              "\n",
              "Residual standard error: 9.887 on 63 degrees of freedom\n",
              "Multiple R-squared:  0.9461,\tAdjusted R-squared:  0.9436 \n",
              "F-statistic: 368.9 on 3 and 63 DF,  p-value: < 2.2e-16\n"
            ]
          },
          "metadata": {}
        }
      ]
    },
    {
      "cell_type": "markdown",
      "source": [
        "## Weryfikacja modelu"
      ],
      "metadata": {
        "id": "OLIRrKBETBLe"
      }
    },
    {
      "cell_type": "code",
      "source": [
        "#weryfikacja modelu po regresji krokowej\n",
        "summary(model4)"
      ],
      "metadata": {
        "colab": {
          "base_uri": "https://localhost:8080/",
          "height": 363
        },
        "id": "-JrpFi7-TI-B",
        "outputId": "ca31b8bf-8b31-4b07-c9eb-91906fe2fc26"
      },
      "execution_count": 51,
      "outputs": [
        {
          "output_type": "display_data",
          "data": {
            "text/plain": [
              "\n",
              "Call:\n",
              "lm(formula = mleko ~ owies + bydlo)\n",
              "\n",
              "Residuals:\n",
              "    Min      1Q  Median      3Q     Max \n",
              "-23.778  -5.506  -1.003   5.271  30.358 \n",
              "\n",
              "Coefficients:\n",
              "            Estimate Std. Error t value Pr(>|t|)    \n",
              "(Intercept) 15.35054    4.63627   3.311   0.0014 ** \n",
              "owies        0.78353    0.09066   8.643 4.43e-13 ***\n",
              "bydlo       11.49167    1.02374  11.225  < 2e-16 ***\n",
              "---\n",
              "Signif. codes:  0 ‘***’ 0.001 ‘**’ 0.01 ‘*’ 0.05 ‘.’ 0.1 ‘ ’ 1\n",
              "\n",
              "Residual standard error: 9.879 on 80 degrees of freedom\n",
              "Multiple R-squared:  0.9427,\tAdjusted R-squared:  0.9412 \n",
              "F-statistic: 657.8 on 2 and 80 DF,  p-value: < 2.2e-16\n"
            ]
          },
          "metadata": {}
        }
      ]
    },
    {
      "cell_type": "markdown",
      "source": [
        "Współczynnik determinacja -- model wyjaśnia 94.3% zmienności ceny mleka\n",
        "\n",
        "Odchylenie składnika losowego -- 9.88\n",
        "\n",
        "Test F -- pvalue < 2.2e-16"
      ],
      "metadata": {
        "id": "F7nS_zk5Tp53"
      }
    },
    {
      "cell_type": "markdown",
      "source": [
        "### Sprawdzenie założeń dotyczących reszt"
      ],
      "metadata": {
        "id": "gB25zml_nXVg"
      }
    },
    {
      "cell_type": "markdown",
      "source": [
        "Założenia:\n",
        "- symetryczne,\n",
        "- rozkład normalny\n",
        "- jednorodne wariancje w grupach,\n",
        "- brak autokorelacji,\n",
        "- losowość"
      ],
      "metadata": {
        "id": "RlNefgmfnf3o"
      }
    },
    {
      "cell_type": "code",
      "source": [
        "reszty = model4$residuals"
      ],
      "metadata": {
        "id": "QIF1RjTDnXFr"
      },
      "execution_count": 35,
      "outputs": []
    },
    {
      "cell_type": "markdown",
      "source": [
        "rozkład normalny"
      ],
      "metadata": {
        "id": "tNCrQpa5qw34"
      }
    },
    {
      "cell_type": "code",
      "source": [
        "shapiro.test(reszty)\n",
        "#H0 normalność\n",
        "#H1 brak\n",
        "# brak podstaw do odrzucenia H0"
      ],
      "metadata": {
        "colab": {
          "base_uri": "https://localhost:8080/",
          "height": 108
        },
        "id": "zU4nHckHpzic",
        "outputId": "6a6bb7a0-fb09-46a5-a273-e0449fa365f4"
      },
      "execution_count": 36,
      "outputs": [
        {
          "output_type": "display_data",
          "data": {
            "text/plain": [
              "\n",
              "\tShapiro-Wilk normality test\n",
              "\n",
              "data:  reszty\n",
              "W = 0.97848, p-value = 0.1779\n"
            ]
          },
          "metadata": {}
        }
      ]
    },
    {
      "cell_type": "code",
      "source": [
        "hist(reszty)"
      ],
      "metadata": {
        "colab": {
          "base_uri": "https://localhost:8080/",
          "height": 437
        },
        "id": "nN-CgzX1qakp",
        "outputId": "4ddc20a8-aa7d-4e2f-ae0f-fbb49d47a80a"
      },
      "execution_count": 37,
      "outputs": [
        {
          "output_type": "display_data",
          "data": {
            "text/plain": [
              "Plot with title “Histogram of reszty”"
            ],
            "image/png": "[encoded data removed]"
          },
          "metadata": {
            "image/png": {
              "width": 420,
              "height": 420
            }
          }
        }
      ]
    },
    {
      "cell_type": "code",
      "source": [
        "#H0 średnia równa 0\n",
        "#H1 inna\n",
        "# brak podstaw do odrzucenia H0\n",
        "t.test(reszty)"
      ],
      "metadata": {
        "colab": {
          "base_uri": "https://localhost:8080/",
          "height": 218
        },
        "id": "rxZh8kPRp0-z",
        "outputId": "e28ddc4b-3705-45e6-ca97-3fc81a7b95a9"
      },
      "execution_count": 38,
      "outputs": [
        {
          "output_type": "display_data",
          "data": {
            "text/plain": [
              "\n",
              "\tOne Sample t-test\n",
              "\n",
              "data:  reszty\n",
              "t = -3.0879e-16, df = 82, p-value = 1\n",
              "alternative hypothesis: true mean is not equal to 0\n",
              "95 percent confidence interval:\n",
              " -2.130619  2.130619\n",
              "sample estimates:\n",
              "    mean of x \n",
              "-3.307261e-16 \n"
            ]
          },
          "metadata": {}
        }
      ]
    },
    {
      "cell_type": "markdown",
      "source": [
        "autokorelacja"
      ],
      "metadata": {
        "id": "LME6Tp6XqHzB"
      }
    },
    {
      "cell_type": "code",
      "source": [
        "#H0 brak autokorelacji rzędu 1 -> jest 0\n",
        "#H1 autokorelacja reszt\n",
        "# odrzucamy H0, w modelu występuje autokorelacja reszt pierwszego rzędu\n",
        "dwtest(model4)\n",
        "\n",
        "#autokorelacja wyższego rzędu\n",
        "coeftest(bgtest(model4, order = 10))"
      ],
      "metadata": {
        "colab": {
          "base_uri": "https://localhost:8080/",
          "height": 473
        },
        "id": "Vz121fEtp2dS",
        "outputId": "d55a5e64-0b20-4be1-f5a7-fb51538b117e"
      },
      "execution_count": 39,
      "outputs": [
        {
          "output_type": "display_data",
          "data": {
            "text/plain": [
              "\n",
              "\tDurbin-Watson test\n",
              "\n",
              "data:  model4\n",
              "DW = 0.40808, p-value < 2.2e-16\n",
              "alternative hypothesis: true autocorrelation is greater than 0\n"
            ]
          },
          "metadata": {}
        },
        {
          "output_type": "display_data",
          "data": {
            "text/plain": [
              "\n",
              "z test of coefficients:\n",
              "\n",
              "               Estimate Std. Error z value  Pr(>|z|)    \n",
              "(Intercept)   -0.266596   2.678698 -0.0995  0.920722    \n",
              "owies         -0.189921   0.073378 -2.5883  0.009646 ** \n",
              "bydlo          1.799048   0.746963  2.4085  0.016019 *  \n",
              "lag(resid)_1   0.797290   0.119003  6.6997 2.088e-11 ***\n",
              "lag(resid)_2  -0.087750   0.152247 -0.5764  0.564365    \n",
              "lag(resid)_3   0.128329   0.151871  0.8450  0.398118    \n",
              "lag(resid)_4  -0.108107   0.149320 -0.7240  0.469069    \n",
              "lag(resid)_5   0.020269   0.150814  0.1344  0.893089    \n",
              "lag(resid)_6  -0.130754   0.158153 -0.8268  0.408376    \n",
              "lag(resid)_7  -0.290716   0.158471 -1.8345  0.066579 .  \n",
              "lag(resid)_8   0.096037   0.164061  0.5854  0.558296    \n",
              "lag(resid)_9   0.080889   0.162768  0.4970  0.619220    \n",
              "lag(resid)_10 -0.188751   0.126119 -1.4966  0.134495    \n",
              "---\n",
              "Signif. codes:  0 ‘***’ 0.001 ‘**’ 0.01 ‘*’ 0.05 ‘.’ 0.1 ‘ ’ 1\n"
            ]
          },
          "metadata": {}
        }
      ]
    },
    {
      "cell_type": "markdown",
      "source": [
        "jednorodność wariancji"
      ],
      "metadata": {
        "id": "Xaj7KSf1qFa1"
      }
    },
    {
      "cell_type": "code",
      "source": [
        "#jednorodność wariancji\n",
        "#H0 wariancje jednorodne\n",
        "#H1 brak jednorodnośći\n",
        "# odrzucamy H0\n",
        "gqtest(model4)"
      ],
      "metadata": {
        "colab": {
          "base_uri": "https://localhost:8080/",
          "height": 126
        },
        "id": "BRXvJsapp3_0",
        "outputId": "a9229a8e-b525-476f-d4a6-fe68b0ac305b"
      },
      "execution_count": 40,
      "outputs": [
        {
          "output_type": "display_data",
          "data": {
            "text/plain": [
              "\n",
              "\tGoldfeld-Quandt test\n",
              "\n",
              "data:  model4\n",
              "GQ = 5.1285, df1 = 39, df2 = 38, p-value = 8.797e-07\n",
              "alternative hypothesis: variance increases from segment 1 to 2\n"
            ]
          },
          "metadata": {}
        }
      ]
    },
    {
      "cell_type": "markdown",
      "source": [
        "weryfikacja liniowości"
      ],
      "metadata": {
        "id": "IUiNBZ6Ap66c"
      }
    },
    {
      "cell_type": "code",
      "source": [
        "harvtest(model4)\n",
        "\n",
        "#H0 model jest liniowy (liniowość reszt)\n",
        "#H1 brak liniowości reszt\n",
        "# odrzucamy H0"
      ],
      "metadata": {
        "colab": {
          "base_uri": "https://localhost:8080/",
          "height": 108
        },
        "id": "Z28wHlIJp6gO",
        "outputId": "68cf2c82-4fe6-4adc-8366-6b210072273d"
      },
      "execution_count": 45,
      "outputs": [
        {
          "output_type": "display_data",
          "data": {
            "text/plain": [
              "\n",
              "\tHarvey-Collier test\n",
              "\n",
              "data:  model4\n",
              "HC = 3.9741, df = 79, p-value = 0.0001552\n"
            ]
          },
          "metadata": {}
        }
      ]
    },
    {
      "cell_type": "code",
      "source": [
        "raintest(model4)\n",
        "\n",
        "#H0 model jest liniowy (liniowość reszt)\n",
        "#H1 brak liniowości reszt\n",
        "# brak podstaw do odrzucenia H0"
      ],
      "metadata": {
        "colab": {
          "base_uri": "https://localhost:8080/",
          "height": 108
        },
        "id": "4rK5yVxtp-E2",
        "outputId": "c890de36-6480-4506-8003-d1ed164d99a2"
      },
      "execution_count": 46,
      "outputs": [
        {
          "output_type": "display_data",
          "data": {
            "text/plain": [
              "\n",
              "\tRainbow test\n",
              "\n",
              "data:  model4\n",
              "Rain = 0.74637, df1 = 42, df2 = 38, p-value = 0.8223\n"
            ]
          },
          "metadata": {}
        }
      ]
    },
    {
      "cell_type": "code",
      "source": [
        "resettest(model4)\n",
        "\n",
        "#H0 model jest liniowy (liniowość reszt)\n",
        "#H1 brak liniowości reszt\n",
        "# odrzucamy H0"
      ],
      "metadata": {
        "colab": {
          "base_uri": "https://localhost:8080/",
          "height": 108
        },
        "id": "1KQfN_oHp_qE",
        "outputId": "bb72053c-3dfd-4faa-cc29-57d7a409be75"
      },
      "execution_count": 47,
      "outputs": [
        {
          "output_type": "display_data",
          "data": {
            "text/plain": [
              "\n",
              "\tRESET test\n",
              "\n",
              "data:  model4\n",
              "RESET = 8.0202, df1 = 2, df2 = 78, p-value = 0.0006798\n"
            ]
          },
          "metadata": {}
        }
      ]
    },
    {
      "cell_type": "markdown",
      "source": [
        "wykresy diagnostyczne"
      ],
      "metadata": {
        "id": "hChpZ4VdqC2T"
      }
    },
    {
      "cell_type": "code",
      "source": [
        "plot(model4)\n",
        "#1 czy warość średnia jest równa 0 (linia przerywana to 0 dla reszt) -- tstudenta sprawdzone że nie odbiega\n",
        "#2 normalność rozkładu (linia przerywana obrazuje silną korelacje dodatnią) -- odpowiednik shapiro (reszty 60 59 51 odbiegają ale nie pusją)\n",
        "#3 określenie jednorodności wariancji\n",
        "#4 obserwacje nietypowe (leverage) -- brak obserwacji nietypowej (powyżej cooks distance)"
      ],
      "metadata": {
        "colab": {
          "base_uri": "https://localhost:8080/",
          "height": 1000
        },
        "id": "WG2WfsKiqBv_",
        "outputId": "d076f1e1-0580-445c-d519-7a8cc7519e82"
      },
      "execution_count": 48,
      "outputs": [
        {
          "output_type": "display_data",
          "data": {
            "text/plain": [
              "Plot with title “”"
            ],
            "image/png": "[encoded data removed]"
          },
          "metadata": {
            "image/png": {
              "width": 420,
              "height": 420
            }
          }
        },
        {
          "output_type": "display_data",
          "data": {
            "text/plain": [
              "Plot with title “”"
            ],
            "image/png": "[encoded data removed]"
          },
          "metadata": {
            "image/png": {
              "width": 420,
              "height": 420
            }
          }
        },
        {
          "output_type": "display_data",
          "data": {
            "text/plain": [
              "Plot with title “”"
            ],
            "image/png": "[encoded data removed]"
          },
          "metadata": {
            "image/png": {
              "width": 420,
              "height": 420
            }
          }
        },
        {
          "output_type": "display_data",
          "data": {
            "text/plain": [
              "Plot with title “”"
            ],
            "image/png": "[encoded data removed]"
          },
          "metadata": {
            "image/png": {
              "width": 420,
              "height": 420
            }
          }
        }
      ]
    },
    {
      "cell_type": "markdown",
      "source": [
        "## Porównanie modeli - ANOVA"
      ],
      "metadata": {
        "id": "_kb13RLy63zU"
      }
    },
    {
      "cell_type": "markdown",
      "source": [
        "H0: model 2  nie jest istotnie lepszy od modelu 1\n",
        "\n",
        "H1: jest"
      ],
      "metadata": {
        "id": "Klgb4JHF7Bgr"
      }
    },
    {
      "cell_type": "code",
      "source": [
        "anova(model_auto, model4)"
      ],
      "metadata": {
        "id": "zFyOtMlC63VE"
      },
      "execution_count": null,
      "outputs": []
    },
    {
      "cell_type": "markdown",
      "source": [
        "## Ocena dokładności prognoz"
      ],
      "metadata": {
        "id": "emesRbnf7gs7"
      }
    },
    {
      "cell_type": "markdown",
      "source": [
        "### Ocena ex post"
      ],
      "metadata": {
        "id": "vBckn3J87nFa"
      }
    },
    {
      "cell_type": "code",
      "source": [],
      "metadata": {
        "id": "rgJnyiKb8LCm"
      },
      "execution_count": null,
      "outputs": []
    },
    {
      "cell_type": "markdown",
      "source": [
        "### Ocena ex ante"
      ],
      "metadata": {
        "id": "cCXJvMrX8FPu"
      }
    },
    {
      "cell_type": "code",
      "source": [],
      "metadata": {
        "id": "l8_DJCBX7kh6"
      },
      "execution_count": null,
      "outputs": []
    }
  ]
}