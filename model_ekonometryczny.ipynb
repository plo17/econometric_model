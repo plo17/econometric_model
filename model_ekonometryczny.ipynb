{
  "nbformat": 4,
  "nbformat_minor": 0,
  "metadata": {
    "colab": {
      "provenance": [],
      "collapsed_sections": [
        "VYHFlV05bvvE",
        "4TPPe0R5carn"
      ],
      "toc_visible": true
    },
    "kernelspec": {
      "name": "ir",
      "display_name": "R"
    },
    "language_info": {
      "name": "R"
    }
  },
  "cells": [
    {
      "cell_type": "code",
      "source": [
        "install.packages(\"tidyr\")\n",
        "install.packages(\"psych\")\n",
        "install.packages(\"car\")\n",
        "install.packages(\"lmtest\")\n",
        "\n",
        "library(\"lmtest\")\n",
        "library(\"car\")\n",
        "library(\"psych\")\n",
        "library(\"tidyr\")\n",
        "library(\"dplyr\")"
      ],
      "metadata": {
        "colab": {
          "base_uri": "https://localhost:8080/"
        },
        "id": "n1EuZWLObnLI",
        "outputId": "c902430a-8f78-4dfe-9931-c24364769f4f"
      },
      "execution_count": 1,
      "outputs": [
        {
          "output_type": "stream",
          "name": "stderr",
          "text": [
            "Installing package into ‘/usr/local/lib/R/site-library’\n",
            "(as ‘lib’ is unspecified)\n",
            "\n",
            "Installing package into ‘/usr/local/lib/R/site-library’\n",
            "(as ‘lib’ is unspecified)\n",
            "\n",
            "also installing the dependencies ‘mnormt’, ‘GPArotation’\n",
            "\n",
            "\n",
            "Installing package into ‘/usr/local/lib/R/site-library’\n",
            "(as ‘lib’ is unspecified)\n",
            "\n",
            "also installing the dependencies ‘rbibutils’, ‘cowplot’, ‘Deriv’, ‘microbenchmark’, ‘Rdpack’, ‘numDeriv’, ‘doBy’, ‘SparseM’, ‘MatrixModels’, ‘minqa’, ‘nloptr’, ‘reformulas’, ‘RcppEigen’, ‘carData’, ‘abind’, ‘Formula’, ‘pbkrtest’, ‘quantreg’, ‘lme4’\n",
            "\n",
            "\n",
            "Installing package into ‘/usr/local/lib/R/site-library’\n",
            "(as ‘lib’ is unspecified)\n",
            "\n",
            "also installing the dependency ‘zoo’\n",
            "\n",
            "\n",
            "Loading required package: zoo\n",
            "\n",
            "\n",
            "Attaching package: ‘zoo’\n",
            "\n",
            "\n",
            "The following objects are masked from ‘package:base’:\n",
            "\n",
            "    as.Date, as.Date.numeric\n",
            "\n",
            "\n",
            "Loading required package: carData\n",
            "\n",
            "\n",
            "Attaching package: ‘psych’\n",
            "\n",
            "\n",
            "The following object is masked from ‘package:car’:\n",
            "\n",
            "    logit\n",
            "\n",
            "\n",
            "\n",
            "Attaching package: ‘dplyr’\n",
            "\n",
            "\n",
            "The following object is masked from ‘package:car’:\n",
            "\n",
            "    recode\n",
            "\n",
            "\n",
            "The following objects are masked from ‘package:stats’:\n",
            "\n",
            "    filter, lag\n",
            "\n",
            "\n",
            "The following objects are masked from ‘package:base’:\n",
            "\n",
            "    intersect, setdiff, setequal, union\n",
            "\n",
            "\n"
          ]
        }
      ]
    },
    {
      "cell_type": "markdown",
      "source": [
        "##Wczytanie danych"
      ],
      "metadata": {
        "id": "VYHFlV05bvvE"
      }
    },
    {
      "cell_type": "code",
      "source": [
        "dane <- read.csv2(\"/content/ceny_produktow_rolniczych.csv\")\n",
        "dane <- dane %>% select(-X, -Okresy, -Rok)"
      ],
      "metadata": {
        "id": "6houQBvsczfL"
      },
      "execution_count": 50,
      "outputs": []
    },
    {
      "cell_type": "code",
      "source": [
        "names(dane) <- c(\"jeczmien\", \"pszenzyto\", \"owies\", \"kukurydza\", \"bydlo\", \"mleko\")"
      ],
      "metadata": {
        "id": "pq7QKOdlAE9T"
      },
      "execution_count": 51,
      "outputs": []
    },
    {
      "cell_type": "code",
      "source": [
        "str(dane)"
      ],
      "metadata": {
        "colab": {
          "base_uri": "https://localhost:8080/"
        },
        "id": "ELKvaeSgjtj3",
        "outputId": "e73bb19d-041c-4dcf-fd1f-daca6a26d38f"
      },
      "execution_count": 52,
      "outputs": [
        {
          "output_type": "stream",
          "name": "stdout",
          "text": [
            "'data.frame':\t84 obs. of  6 variables:\n",
            " $ jeczmien : num  67.6 67.3 67.1 67.3 66.2 ...\n",
            " $ pszenzyto: num  62.1 61.4 61.9 62.4 62.4 ...\n",
            " $ owies    : num  52 52.3 51.9 51.9 53.3 ...\n",
            " $ kukurydza: num  59.6 60.5 61.8 62.4 64.8 ...\n",
            " $ bydlo    : num  6.58 6.47 6.34 6.58 6.63 6.49 6.42 6.52 6.48 6.51 ...\n",
            " $ mleko    : num  142 135 134 132 129 ...\n"
          ]
        }
      ]
    },
    {
      "cell_type": "markdown",
      "source": [
        "### określenie zbiorów"
      ],
      "metadata": {
        "id": "xfnxDt9kAoPV"
      }
    },
    {
      "cell_type": "code",
      "source": [
        "trening = dane[1:67,]\n",
        "test = dane[68:83,]"
      ],
      "metadata": {
        "id": "YvLh9RiDAsHC"
      },
      "execution_count": 53,
      "outputs": []
    },
    {
      "cell_type": "code",
      "source": [
        "head(trening)"
      ],
      "metadata": {
        "colab": {
          "base_uri": "https://localhost:8080/",
          "height": 286
        },
        "id": "zU-6KNbjBBNV",
        "outputId": "ab2ee258-331f-4d8a-ef3f-bc050be058ca"
      },
      "execution_count": 54,
      "outputs": [
        {
          "output_type": "display_data",
          "data": {
            "text/html": [
              "<table class=\"dataframe\">\n",
              "<caption>A data.frame: 6 × 6</caption>\n",
              "<thead>\n",
              "\t<tr><th></th><th scope=col>jeczmien</th><th scope=col>pszenzyto</th><th scope=col>owies</th><th scope=col>kukurydza</th><th scope=col>bydlo</th><th scope=col>mleko</th></tr>\n",
              "\t<tr><th></th><th scope=col>&lt;dbl&gt;</th><th scope=col>&lt;dbl&gt;</th><th scope=col>&lt;dbl&gt;</th><th scope=col>&lt;dbl&gt;</th><th scope=col>&lt;dbl&gt;</th><th scope=col>&lt;dbl&gt;</th></tr>\n",
              "</thead>\n",
              "<tbody>\n",
              "\t<tr><th scope=row>1</th><td>67.59</td><td>62.06</td><td>52.01</td><td>59.65</td><td>6.58</td><td>142.12</td></tr>\n",
              "\t<tr><th scope=row>2</th><td>67.33</td><td>61.37</td><td>52.29</td><td>60.46</td><td>6.47</td><td>135.24</td></tr>\n",
              "\t<tr><th scope=row>3</th><td>67.08</td><td>61.86</td><td>51.87</td><td>61.81</td><td>6.34</td><td>134.20</td></tr>\n",
              "\t<tr><th scope=row>4</th><td>67.35</td><td>62.37</td><td>51.85</td><td>62.35</td><td>6.58</td><td>132.17</td></tr>\n",
              "\t<tr><th scope=row>5</th><td>66.19</td><td>62.44</td><td>53.30</td><td>64.78</td><td>6.63</td><td>129.20</td></tr>\n",
              "\t<tr><th scope=row>6</th><td>65.47</td><td>63.72</td><td>54.41</td><td>67.09</td><td>6.49</td><td>128.52</td></tr>\n",
              "</tbody>\n",
              "</table>\n"
            ],
            "text/markdown": "\nA data.frame: 6 × 6\n\n| <!--/--> | jeczmien &lt;dbl&gt; | pszenzyto &lt;dbl&gt; | owies &lt;dbl&gt; | kukurydza &lt;dbl&gt; | bydlo &lt;dbl&gt; | mleko &lt;dbl&gt; |\n|---|---|---|---|---|---|---|\n| 1 | 67.59 | 62.06 | 52.01 | 59.65 | 6.58 | 142.12 |\n| 2 | 67.33 | 61.37 | 52.29 | 60.46 | 6.47 | 135.24 |\n| 3 | 67.08 | 61.86 | 51.87 | 61.81 | 6.34 | 134.20 |\n| 4 | 67.35 | 62.37 | 51.85 | 62.35 | 6.58 | 132.17 |\n| 5 | 66.19 | 62.44 | 53.30 | 64.78 | 6.63 | 129.20 |\n| 6 | 65.47 | 63.72 | 54.41 | 67.09 | 6.49 | 128.52 |\n\n",
            "text/latex": "A data.frame: 6 × 6\n\\begin{tabular}{r|llllll}\n  & jeczmien & pszenzyto & owies & kukurydza & bydlo & mleko\\\\\n  & <dbl> & <dbl> & <dbl> & <dbl> & <dbl> & <dbl>\\\\\n\\hline\n\t1 & 67.59 & 62.06 & 52.01 & 59.65 & 6.58 & 142.12\\\\\n\t2 & 67.33 & 61.37 & 52.29 & 60.46 & 6.47 & 135.24\\\\\n\t3 & 67.08 & 61.86 & 51.87 & 61.81 & 6.34 & 134.20\\\\\n\t4 & 67.35 & 62.37 & 51.85 & 62.35 & 6.58 & 132.17\\\\\n\t5 & 66.19 & 62.44 & 53.30 & 64.78 & 6.63 & 129.20\\\\\n\t6 & 65.47 & 63.72 & 54.41 & 67.09 & 6.49 & 128.52\\\\\n\\end{tabular}\n",
            "text/plain": [
              "  jeczmien pszenzyto owies kukurydza bydlo mleko \n",
              "1 67.59    62.06     52.01 59.65     6.58  142.12\n",
              "2 67.33    61.37     52.29 60.46     6.47  135.24\n",
              "3 67.08    61.86     51.87 61.81     6.34  134.20\n",
              "4 67.35    62.37     51.85 62.35     6.58  132.17\n",
              "5 66.19    62.44     53.30 64.78     6.63  129.20\n",
              "6 65.47    63.72     54.41 67.09     6.49  128.52"
            ]
          },
          "metadata": {}
        }
      ]
    },
    {
      "cell_type": "markdown",
      "source": [
        "## Model ekonometryczny"
      ],
      "metadata": {
        "id": "O20n_rHxkK0P"
      }
    },
    {
      "cell_type": "markdown",
      "source": [
        "CEL: modelujemy wpływ cen zboża na cene mleka\n",
        "\n",
        "zmienna zależna -- cena mleka\n",
        "\n",
        "zmienne niezależne -- ceny zboża, plus cena bydła"
      ],
      "metadata": {
        "id": "TIXUCjulkzYg"
      }
    },
    {
      "cell_type": "code",
      "source": [
        "colSums(is.na(trening))  # NA dla każdej kolumny"
      ],
      "metadata": {
        "colab": {
          "base_uri": "https://localhost:8080/",
          "height": 34
        },
        "id": "1CZjFcMNppnr",
        "outputId": "c3e31461-863b-4a52-b9fa-4bc8f1361137"
      },
      "execution_count": 8,
      "outputs": [
        {
          "output_type": "display_data",
          "data": {
            "text/html": [
              "<style>\n",
              ".dl-inline {width: auto; margin:0; padding: 0}\n",
              ".dl-inline>dt, .dl-inline>dd {float: none; width: auto; display: inline-block}\n",
              ".dl-inline>dt::after {content: \":\\0020\"; padding-right: .5ex}\n",
              ".dl-inline>dt:not(:first-of-type) {padding-left: .5ex}\n",
              "</style><dl class=dl-inline><dt>jeczmien</dt><dd>0</dd><dt>pszenzyto</dt><dd>0</dd><dt>owies</dt><dd>0</dd><dt>kukurydza</dt><dd>0</dd><dt>bydlo</dt><dd>0</dd><dt>mleko</dt><dd>0</dd></dl>\n"
            ],
            "text/markdown": "jeczmien\n:   0pszenzyto\n:   0owies\n:   0kukurydza\n:   0bydlo\n:   0mleko\n:   0\n\n",
            "text/latex": "\\begin{description*}\n\\item[jeczmien] 0\n\\item[pszenzyto] 0\n\\item[owies] 0\n\\item[kukurydza] 0\n\\item[bydlo] 0\n\\item[mleko] 0\n\\end{description*}\n",
            "text/plain": [
              " jeczmien pszenzyto     owies kukurydza     bydlo     mleko \n",
              "        0         0         0         0         0         0 "
            ]
          },
          "metadata": {}
        }
      ]
    },
    {
      "cell_type": "markdown",
      "source": [
        "## Dobór zmiennych objaśniających - regresja krokowa"
      ],
      "metadata": {
        "id": "HXuuec_W7nw3"
      }
    },
    {
      "cell_type": "markdown",
      "source": [
        "Idea doboru zmiennych\n",
        "objaśniających:\n",
        "\n",
        "• możliwie silnie skorelowane ze zmienną\n",
        "objaśnianą (y)\n",
        "\n",
        "• możliwie słabo skorelowane między sobą"
      ],
      "metadata": {
        "id": "vh3GajpvCazi"
      }
    },
    {
      "cell_type": "markdown",
      "source": [
        "### Zboża"
      ],
      "metadata": {
        "id": "8ufJNU_W9Hpk"
      }
    },
    {
      "cell_type": "code",
      "source": [
        "model = lm(mleko ~ . -bydlo, data = trening)\n",
        "summary(model)"
      ],
      "metadata": {
        "colab": {
          "base_uri": "https://localhost:8080/",
          "height": 400
        },
        "id": "Ivqo3a23bpU-",
        "outputId": "a4b913a2-f466-40f2-db6d-424c709371b5"
      },
      "execution_count": 76,
      "outputs": [
        {
          "output_type": "display_data",
          "data": {
            "text/plain": [
              "\n",
              "Call:\n",
              "lm(formula = mleko ~ . - bydlo, data = trening)\n",
              "\n",
              "Residuals:\n",
              "     Min       1Q   Median       3Q      Max \n",
              "-22.6502  -8.3957   0.2675   7.7496  22.2127 \n",
              "\n",
              "Coefficients:\n",
              "            Estimate Std. Error t value Pr(>|t|)    \n",
              "(Intercept)  43.1886     6.6926   6.453 1.88e-08 ***\n",
              "jeczmien     -0.5750     0.4813  -1.195    0.237    \n",
              "pszenzyto     0.4534     0.4124   1.099    0.276    \n",
              "owies         1.5283     0.2074   7.368 4.95e-10 ***\n",
              "kukurydza     0.1916     0.1435   1.336    0.186    \n",
              "---\n",
              "Signif. codes:  0 ‘***’ 0.001 ‘**’ 0.01 ‘*’ 0.05 ‘.’ 0.1 ‘ ’ 1\n",
              "\n",
              "Residual standard error: 12.35 on 62 degrees of freedom\n",
              "Multiple R-squared:  0.9174,\tAdjusted R-squared:  0.912 \n",
              "F-statistic: 172.1 on 4 and 62 DF,  p-value: < 2.2e-16\n"
            ]
          },
          "metadata": {}
        }
      ]
    },
    {
      "cell_type": "code",
      "source": [
        "# Obliczenie współczynników VIF\n",
        "vif_values <- vif(model)\n",
        "print(vif_values)"
      ],
      "metadata": {
        "id": "uH7fR68DAK0T",
        "outputId": "b520cfd2-bdbb-47e9-f4fb-61906fce0b04",
        "colab": {
          "base_uri": "https://localhost:8080/"
        }
      },
      "execution_count": 77,
      "outputs": [
        {
          "output_type": "stream",
          "name": "stdout",
          "text": [
            " jeczmien pszenzyto     owies kukurydza \n",
            "63.022286 56.511534 11.190247  5.733082 \n"
          ]
        }
      ]
    },
    {
      "cell_type": "code",
      "source": [
        "#usunięcie zmiennej pszenzyto (max pvalue)\n",
        "model2 = lm(mleko ~ owies + kukurydza + jeczmien, data = trening)\n",
        "summary(model2)"
      ],
      "metadata": {
        "colab": {
          "base_uri": "https://localhost:8080/",
          "height": 382
        },
        "id": "PmGYL2t0grsL",
        "outputId": "edb73ce7-385e-4769-e026-1c2538d05499"
      },
      "execution_count": 78,
      "outputs": [
        {
          "output_type": "display_data",
          "data": {
            "text/plain": [
              "\n",
              "Call:\n",
              "lm(formula = mleko ~ owies + kukurydza + jeczmien, data = trening)\n",
              "\n",
              "Residuals:\n",
              "     Min       1Q   Median       3Q      Max \n",
              "-21.6123  -6.7410  -0.0153   7.9660  22.3142 \n",
              "\n",
              "Coefficients:\n",
              "            Estimate Std. Error t value Pr(>|t|)    \n",
              "(Intercept)  39.1696     5.6155   6.975 2.21e-09 ***\n",
              "owies         1.5229     0.2077   7.332 5.26e-10 ***\n",
              "kukurydza     0.2370     0.1376   1.722    0.090 .  \n",
              "jeczmien     -0.1150     0.2383  -0.482    0.631    \n",
              "---\n",
              "Signif. codes:  0 ‘***’ 0.001 ‘**’ 0.01 ‘*’ 0.05 ‘.’ 0.1 ‘ ’ 1\n",
              "\n",
              "Residual standard error: 12.37 on 63 degrees of freedom\n",
              "Multiple R-squared:  0.9157,\tAdjusted R-squared:  0.9117 \n",
              "F-statistic: 228.2 on 3 and 63 DF,  p-value: < 2.2e-16\n"
            ]
          },
          "metadata": {}
        }
      ]
    },
    {
      "cell_type": "code",
      "source": [
        "#usunięcie zmiennej jeczmien\n",
        "model3 = lm(mleko~owies+kukurydza, data = trening)\n",
        "summary(model3)"
      ],
      "metadata": {
        "colab": {
          "base_uri": "https://localhost:8080/",
          "height": 363
        },
        "id": "uBeZY1cphQSn",
        "outputId": "c9b572df-da89-4694-9b40-b48d182405c8"
      },
      "execution_count": 79,
      "outputs": [
        {
          "output_type": "display_data",
          "data": {
            "text/plain": [
              "\n",
              "Call:\n",
              "lm(formula = mleko ~ owies + kukurydza, data = trening)\n",
              "\n",
              "Residuals:\n",
              "     Min       1Q   Median       3Q      Max \n",
              "-21.3199  -6.9842  -0.4101   7.9162  23.2962 \n",
              "\n",
              "Coefficients:\n",
              "            Estimate Std. Error t value Pr(>|t|)    \n",
              "(Intercept)  38.3887     5.3447   7.183 8.89e-10 ***\n",
              "owies         1.4416     0.1207  11.948  < 2e-16 ***\n",
              "kukurydza     0.2022     0.1166   1.735   0.0876 .  \n",
              "---\n",
              "Signif. codes:  0 ‘***’ 0.001 ‘**’ 0.01 ‘*’ 0.05 ‘.’ 0.1 ‘ ’ 1\n",
              "\n",
              "Residual standard error: 12.29 on 64 degrees of freedom\n",
              "Multiple R-squared:  0.9154,\tAdjusted R-squared:  0.9128 \n",
              "F-statistic: 346.4 on 2 and 64 DF,  p-value: < 2.2e-16\n"
            ]
          },
          "metadata": {}
        }
      ]
    },
    {
      "cell_type": "code",
      "source": [
        "model4 = lm(mleko~owies, data = trening)\n",
        "summary(model4)"
      ],
      "metadata": {
        "colab": {
          "base_uri": "https://localhost:8080/",
          "height": 345
        },
        "id": "_SbAFOFSWPgx",
        "outputId": "4a40755e-4533-49a8-8c44-07eb65155aa4"
      },
      "execution_count": 80,
      "outputs": [
        {
          "output_type": "display_data",
          "data": {
            "text/plain": [
              "\n",
              "Call:\n",
              "lm(formula = mleko ~ owies, data = trening)\n",
              "\n",
              "Residuals:\n",
              "     Min       1Q   Median       3Q      Max \n",
              "-23.5708  -8.0780   0.6779   9.2273  22.9984 \n",
              "\n",
              "Coefficients:\n",
              "            Estimate Std. Error t value Pr(>|t|)    \n",
              "(Intercept) 42.09881    4.97313   8.465 4.36e-12 ***\n",
              "owies        1.62145    0.06268  25.867  < 2e-16 ***\n",
              "---\n",
              "Signif. codes:  0 ‘***’ 0.001 ‘**’ 0.01 ‘*’ 0.05 ‘.’ 0.1 ‘ ’ 1\n",
              "\n",
              "Residual standard error: 12.48 on 65 degrees of freedom\n",
              "Multiple R-squared:  0.9115,\tAdjusted R-squared:  0.9101 \n",
              "F-statistic: 669.1 on 1 and 65 DF,  p-value: < 2.2e-16\n"
            ]
          },
          "metadata": {}
        }
      ]
    },
    {
      "cell_type": "markdown",
      "source": [
        "$y = \\alpha_0 + \\alpha_1 \\cdot owies +\\epsilon$\n",
        "\n",
        "$mleko = 42.09 + 1.62 \\cdot owies + \\epsilon$"
      ],
      "metadata": {
        "id": "e6OFTzjt-HsC"
      }
    },
    {
      "cell_type": "markdown",
      "source": [
        "### Automatyczny dobór zmiennych"
      ],
      "metadata": {
        "id": "fScFg-BxDiv5"
      }
    },
    {
      "cell_type": "code",
      "source": [
        "# automatyczna regresja krokowa z użyciem kryterium AIC\n",
        "full_model <- lm(mleko ~ . -bydlo, data = trening)\n",
        "model_auto <- step(full_model, direction = \"both\", trace = FALSE)\n",
        "\n",
        "summary(model_auto)"
      ],
      "metadata": {
        "colab": {
          "base_uri": "https://localhost:8080/",
          "height": 363
        },
        "id": "CoSSWmbJDKCs",
        "outputId": "4a05c9e9-4870-4217-9db9-692d33df7281"
      },
      "execution_count": 81,
      "outputs": [
        {
          "output_type": "display_data",
          "data": {
            "text/plain": [
              "\n",
              "Call:\n",
              "lm(formula = mleko ~ owies + kukurydza, data = trening)\n",
              "\n",
              "Residuals:\n",
              "     Min       1Q   Median       3Q      Max \n",
              "-21.3199  -6.9842  -0.4101   7.9162  23.2962 \n",
              "\n",
              "Coefficients:\n",
              "            Estimate Std. Error t value Pr(>|t|)    \n",
              "(Intercept)  38.3887     5.3447   7.183 8.89e-10 ***\n",
              "owies         1.4416     0.1207  11.948  < 2e-16 ***\n",
              "kukurydza     0.2022     0.1166   1.735   0.0876 .  \n",
              "---\n",
              "Signif. codes:  0 ‘***’ 0.001 ‘**’ 0.01 ‘*’ 0.05 ‘.’ 0.1 ‘ ’ 1\n",
              "\n",
              "Residual standard error: 12.29 on 64 degrees of freedom\n",
              "Multiple R-squared:  0.9154,\tAdjusted R-squared:  0.9128 \n",
              "F-statistic: 346.4 on 2 and 64 DF,  p-value: < 2.2e-16\n"
            ]
          },
          "metadata": {}
        }
      ]
    },
    {
      "cell_type": "markdown",
      "source": [
        "model otrzymany w wyniku regresji krokowej (oszacowane parametry modelu):\n",
        "\n",
        "$y = \\alpha_0 + \\alpha_1 \\cdot owies + \\alpha_2 \\cdot kukurydza +\\epsilon$\n",
        "\n",
        "$mleko = 38.38 + 1.44 \\cdot owies + 0.2 \\cdot kukurydza+ \\epsilon$"
      ],
      "metadata": {
        "id": "km_4QmkQcgEo"
      }
    },
    {
      "cell_type": "code",
      "source": [
        "# Obliczenie współczynników VIF\n",
        "vif_values <- vif(model_auto)\n",
        "print(vif_values)"
      ],
      "metadata": {
        "colab": {
          "base_uri": "https://localhost:8080/"
        },
        "id": "L406qBfWZZBB",
        "outputId": "66382e83-3e09-4a1f-e7de-5ccd7c60dd6a"
      },
      "execution_count": 82,
      "outputs": [
        {
          "output_type": "stream",
          "name": "stdout",
          "text": [
            "    owies kukurydza \n",
            " 3.819687  3.819687 \n"
          ]
        }
      ]
    },
    {
      "cell_type": "markdown",
      "source": [
        "### Zboża + bydło"
      ],
      "metadata": {
        "id": "KSFYJ-XYM2pJ"
      }
    },
    {
      "cell_type": "code",
      "source": [
        "model_all = lm(mleko ~ ., data = trening)\n",
        "summary(model_all)"
      ],
      "metadata": {
        "colab": {
          "base_uri": "https://localhost:8080/",
          "height": 418
        },
        "id": "Ez6q6SxRM-Co",
        "outputId": "c02509bd-a62e-4182-be07-c8ad794d29f1"
      },
      "execution_count": 83,
      "outputs": [
        {
          "output_type": "display_data",
          "data": {
            "text/plain": [
              "\n",
              "Call:\n",
              "lm(formula = mleko ~ ., data = trening)\n",
              "\n",
              "Residuals:\n",
              "     Min       1Q   Median       3Q      Max \n",
              "-19.4296  -6.5450   0.0009   5.5834  26.0903 \n",
              "\n",
              "Coefficients:\n",
              "            Estimate Std. Error t value Pr(>|t|)    \n",
              "(Intercept) 17.69326    7.02221   2.520   0.0144 *  \n",
              "jeczmien     0.09940    0.40836   0.243   0.8085    \n",
              "pszenzyto   -0.25546    0.35711  -0.715   0.4771    \n",
              "owies        1.06233    0.18708   5.679 4.02e-07 ***\n",
              "kukurydza   -0.05091    0.12398  -0.411   0.6828    \n",
              "bydlo       10.73652    1.87119   5.738 3.21e-07 ***\n",
              "---\n",
              "Signif. codes:  0 ‘***’ 0.001 ‘**’ 0.01 ‘*’ 0.05 ‘.’ 0.1 ‘ ’ 1\n",
              "\n",
              "Residual standard error: 10.03 on 61 degrees of freedom\n",
              "Multiple R-squared:  0.9463,\tAdjusted R-squared:  0.9419 \n",
              "F-statistic: 215.1 on 5 and 61 DF,  p-value: < 2.2e-16\n"
            ]
          },
          "metadata": {}
        }
      ]
    },
    {
      "cell_type": "code",
      "source": [
        "model_all_1 = lm(mleko ~ . - jeczmien, data = trening)\n",
        "summary(model_all_1)"
      ],
      "metadata": {
        "colab": {
          "base_uri": "https://localhost:8080/",
          "height": 400
        },
        "id": "G32y0I7uNOr4",
        "outputId": "b7e9d98c-a7c8-45fb-9f8e-7c61e19cff24"
      },
      "execution_count": 84,
      "outputs": [
        {
          "output_type": "display_data",
          "data": {
            "text/plain": [
              "\n",
              "Call:\n",
              "lm(formula = mleko ~ . - jeczmien, data = trening)\n",
              "\n",
              "Residuals:\n",
              "     Min       1Q   Median       3Q      Max \n",
              "-19.6763  -6.6931  -0.1932   5.5263  26.4617 \n",
              "\n",
              "Coefficients:\n",
              "            Estimate Std. Error t value Pr(>|t|)    \n",
              "(Intercept)  18.7577     5.4525   3.440  0.00105 ** \n",
              "pszenzyto    -0.1789     0.1679  -1.066  0.29075    \n",
              "owies         1.0846     0.1620   6.696 7.21e-09 ***\n",
              "kukurydza    -0.0480     0.1225  -0.392  0.69642    \n",
              "bydlo        10.6054     1.7784   5.964 1.28e-07 ***\n",
              "---\n",
              "Signif. codes:  0 ‘***’ 0.001 ‘**’ 0.01 ‘*’ 0.05 ‘.’ 0.1 ‘ ’ 1\n",
              "\n",
              "Residual standard error: 9.954 on 62 degrees of freedom\n",
              "Multiple R-squared:  0.9463,\tAdjusted R-squared:  0.9428 \n",
              "F-statistic:   273 on 4 and 62 DF,  p-value: < 2.2e-16\n"
            ]
          },
          "metadata": {}
        }
      ]
    },
    {
      "cell_type": "code",
      "source": [
        "model_all_2 = lm(mleko ~ . - jeczmien - kukurydza, data = trening)\n",
        "summary(model_all_2)"
      ],
      "metadata": {
        "colab": {
          "base_uri": "https://localhost:8080/",
          "height": 382
        },
        "id": "qapjgN_sNb-7",
        "outputId": "9e934aa7-d124-4515-89ed-c765559f393b"
      },
      "execution_count": 85,
      "outputs": [
        {
          "output_type": "display_data",
          "data": {
            "text/plain": [
              "\n",
              "Call:\n",
              "lm(formula = mleko ~ . - jeczmien - kukurydza, data = trening)\n",
              "\n",
              "Residuals:\n",
              "     Min       1Q   Median       3Q      Max \n",
              "-19.7489  -6.4656  -0.2891   5.3471  26.1510 \n",
              "\n",
              "Coefficients:\n",
              "            Estimate Std. Error t value Pr(>|t|)    \n",
              "(Intercept)  18.5900     5.3991   3.443  0.00103 ** \n",
              "pszenzyto    -0.2097     0.1474  -1.422  0.15999    \n",
              "owies         1.0913     0.1600   6.822 4.08e-09 ***\n",
              "bydlo        10.3764     1.6683   6.220 4.47e-08 ***\n",
              "---\n",
              "Signif. codes:  0 ‘***’ 0.001 ‘**’ 0.01 ‘*’ 0.05 ‘.’ 0.1 ‘ ’ 1\n",
              "\n",
              "Residual standard error: 9.887 on 63 degrees of freedom\n",
              "Multiple R-squared:  0.9461,\tAdjusted R-squared:  0.9436 \n",
              "F-statistic: 368.9 on 3 and 63 DF,  p-value: < 2.2e-16\n"
            ]
          },
          "metadata": {}
        }
      ]
    },
    {
      "cell_type": "code",
      "source": [
        "model_all_3 = lm(mleko ~ owies + bydlo, data = trening)\n",
        "summary(model_all_3)"
      ],
      "metadata": {
        "colab": {
          "base_uri": "https://localhost:8080/",
          "height": 363
        },
        "id": "PizANkvlNklU",
        "outputId": "4ec5a61f-2a3f-4be9-fac2-83c87e8d5c66"
      },
      "execution_count": 86,
      "outputs": [
        {
          "output_type": "display_data",
          "data": {
            "text/plain": [
              "\n",
              "Call:\n",
              "lm(formula = mleko ~ owies + bydlo, data = trening)\n",
              "\n",
              "Residuals:\n",
              "     Min       1Q   Median       3Q      Max \n",
              "-22.0807  -6.1648  -0.1011   6.1161  28.1162 \n",
              "\n",
              "Coefficients:\n",
              "            Estimate Std. Error t value Pr(>|t|)    \n",
              "(Intercept)  19.8521     5.3679   3.698 0.000453 ***\n",
              "owies         0.9414     0.1212   7.765 8.36e-11 ***\n",
              "bydlo         9.3613     1.5198   6.160 5.40e-08 ***\n",
              "---\n",
              "Signif. codes:  0 ‘***’ 0.001 ‘**’ 0.01 ‘*’ 0.05 ‘.’ 0.1 ‘ ’ 1\n",
              "\n",
              "Residual standard error: 9.965 on 64 degrees of freedom\n",
              "Multiple R-squared:  0.9444,\tAdjusted R-squared:  0.9427 \n",
              "F-statistic: 543.7 on 2 and 64 DF,  p-value: < 2.2e-16\n"
            ]
          },
          "metadata": {}
        }
      ]
    },
    {
      "cell_type": "markdown",
      "source": [
        "model otrzymany w wyniku regresji krokowej (oszacowane parametry modelu):\n",
        "\n",
        "$y = \\alpha_0 + \\alpha_1 \\cdot owies + \\alpha_2 \\cdot bydło +\\epsilon$\n",
        "\n",
        "$mleko = 19.85 + 0.94 \\cdot owies + 9.36 \\cdot bydło + \\epsilon$"
      ],
      "metadata": {
        "id": "zsw1-BBuPzS2"
      }
    },
    {
      "cell_type": "code",
      "source": [
        "# Obliczenie współczynników VIF\n",
        "vif_values <- vif(model_all_3)\n",
        "print(vif_values)"
      ],
      "metadata": {
        "colab": {
          "base_uri": "https://localhost:8080/"
        },
        "id": "Y1k-AA5FOI1t",
        "outputId": "480d13e0-a1df-4558-d945-a3e750f54f5d"
      },
      "execution_count": 87,
      "outputs": [
        {
          "output_type": "stream",
          "name": "stdout",
          "text": [
            "   owies    bydlo \n",
            "5.865865 5.865865 \n"
          ]
        }
      ]
    },
    {
      "cell_type": "markdown",
      "source": [
        "### Automatyczny dobór zmiennych"
      ],
      "metadata": {
        "id": "t-xHISkPWYkQ"
      }
    },
    {
      "cell_type": "code",
      "source": [
        "# automatyczna regresja krokowa z użyciem kryterium AIC\n",
        "full_model <- lm(mleko ~ ., data = trening)\n",
        "model_auto_all <- step(full_model, direction = \"both\", trace = FALSE)\n",
        "\n",
        "summary(model_auto_all)"
      ],
      "metadata": {
        "colab": {
          "base_uri": "https://localhost:8080/",
          "height": 382
        },
        "id": "qZgflcBSNukY",
        "outputId": "b2d230d2-e8ef-4b1e-9455-71f485d06f90"
      },
      "execution_count": 88,
      "outputs": [
        {
          "output_type": "display_data",
          "data": {
            "text/plain": [
              "\n",
              "Call:\n",
              "lm(formula = mleko ~ pszenzyto + owies + bydlo, data = trening)\n",
              "\n",
              "Residuals:\n",
              "     Min       1Q   Median       3Q      Max \n",
              "-19.7489  -6.4656  -0.2891   5.3471  26.1510 \n",
              "\n",
              "Coefficients:\n",
              "            Estimate Std. Error t value Pr(>|t|)    \n",
              "(Intercept)  18.5900     5.3991   3.443  0.00103 ** \n",
              "pszenzyto    -0.2097     0.1474  -1.422  0.15999    \n",
              "owies         1.0913     0.1600   6.822 4.08e-09 ***\n",
              "bydlo        10.3764     1.6683   6.220 4.47e-08 ***\n",
              "---\n",
              "Signif. codes:  0 ‘***’ 0.001 ‘**’ 0.01 ‘*’ 0.05 ‘.’ 0.1 ‘ ’ 1\n",
              "\n",
              "Residual standard error: 9.887 on 63 degrees of freedom\n",
              "Multiple R-squared:  0.9461,\tAdjusted R-squared:  0.9436 \n",
              "F-statistic: 368.9 on 3 and 63 DF,  p-value: < 2.2e-16\n"
            ]
          },
          "metadata": {}
        }
      ]
    },
    {
      "cell_type": "markdown",
      "source": [
        "$mleko = 18.59 + 1.09 \\cdot owies + 10.37 \\cdot bydło - 0.21 \\cdot pszenżyto + \\epsilon$"
      ],
      "metadata": {
        "id": "Hd4gqHPjHPrw"
      }
    },
    {
      "cell_type": "markdown",
      "source": [
        "## Weryfikacja modelu"
      ],
      "metadata": {
        "id": "OLIRrKBETBLe"
      }
    },
    {
      "cell_type": "markdown",
      "source": [
        "### Istotność współczynników"
      ],
      "metadata": {
        "id": "GptX8WVmQ0Cr"
      }
    },
    {
      "cell_type": "code",
      "source": [
        "#weryfikacja modelu po regresji krokowej\n",
        "summary(model4)"
      ],
      "metadata": {
        "colab": {
          "base_uri": "https://localhost:8080/",
          "height": 345
        },
        "id": "-JrpFi7-TI-B",
        "outputId": "934dba1a-19c9-43d3-fc5a-1b56e0ee5779"
      },
      "execution_count": 89,
      "outputs": [
        {
          "output_type": "display_data",
          "data": {
            "text/plain": [
              "\n",
              "Call:\n",
              "lm(formula = mleko ~ owies, data = trening)\n",
              "\n",
              "Residuals:\n",
              "     Min       1Q   Median       3Q      Max \n",
              "-23.5708  -8.0780   0.6779   9.2273  22.9984 \n",
              "\n",
              "Coefficients:\n",
              "            Estimate Std. Error t value Pr(>|t|)    \n",
              "(Intercept) 42.09881    4.97313   8.465 4.36e-12 ***\n",
              "owies        1.62145    0.06268  25.867  < 2e-16 ***\n",
              "---\n",
              "Signif. codes:  0 ‘***’ 0.001 ‘**’ 0.01 ‘*’ 0.05 ‘.’ 0.1 ‘ ’ 1\n",
              "\n",
              "Residual standard error: 12.48 on 65 degrees of freedom\n",
              "Multiple R-squared:  0.9115,\tAdjusted R-squared:  0.9101 \n",
              "F-statistic: 669.1 on 1 and 65 DF,  p-value: < 2.2e-16\n"
            ]
          },
          "metadata": {}
        }
      ]
    },
    {
      "cell_type": "markdown",
      "source": [
        "Współczynnik determinacja -- model wyjaśnia 91.15% zmienności ceny mleka\n",
        "\n",
        "Odchylenie składnika losowego -- 12.48\n",
        "\n",
        "Test F -- pvalue < 2.2e-16"
      ],
      "metadata": {
        "id": "F7nS_zk5Tp53"
      }
    },
    {
      "cell_type": "code",
      "source": [
        "summary(model_all_3)"
      ],
      "metadata": {
        "id": "UNwowR72NfZP",
        "outputId": "911d926b-34ad-4ed3-98e1-6bba511ed2ca",
        "colab": {
          "base_uri": "https://localhost:8080/",
          "height": 363
        }
      },
      "execution_count": 90,
      "outputs": [
        {
          "output_type": "display_data",
          "data": {
            "text/plain": [
              "\n",
              "Call:\n",
              "lm(formula = mleko ~ owies + bydlo, data = trening)\n",
              "\n",
              "Residuals:\n",
              "     Min       1Q   Median       3Q      Max \n",
              "-22.0807  -6.1648  -0.1011   6.1161  28.1162 \n",
              "\n",
              "Coefficients:\n",
              "            Estimate Std. Error t value Pr(>|t|)    \n",
              "(Intercept)  19.8521     5.3679   3.698 0.000453 ***\n",
              "owies         0.9414     0.1212   7.765 8.36e-11 ***\n",
              "bydlo         9.3613     1.5198   6.160 5.40e-08 ***\n",
              "---\n",
              "Signif. codes:  0 ‘***’ 0.001 ‘**’ 0.01 ‘*’ 0.05 ‘.’ 0.1 ‘ ’ 1\n",
              "\n",
              "Residual standard error: 9.965 on 64 degrees of freedom\n",
              "Multiple R-squared:  0.9444,\tAdjusted R-squared:  0.9427 \n",
              "F-statistic: 543.7 on 2 and 64 DF,  p-value: < 2.2e-16\n"
            ]
          },
          "metadata": {}
        }
      ]
    },
    {
      "cell_type": "markdown",
      "source": [
        "Współczynnik determinacja -- model wyjaśnia 94.44% zmienności ceny mleka\n",
        "\n",
        "Odchylenie składnika losowego -- 9.96\n",
        "\n",
        "Test F -- pvalue < 2.2e-16"
      ],
      "metadata": {
        "id": "p9uK45e5NyTG"
      }
    },
    {
      "cell_type": "markdown",
      "source": [
        "### Sprawdzenie założeń dotyczących reszt"
      ],
      "metadata": {
        "id": "gB25zml_nXVg"
      }
    },
    {
      "cell_type": "markdown",
      "source": [
        "Założenia:\n",
        "- symetryczne,\n",
        "- rozkład normalny\n",
        "- jednorodne wariancje w grupach,\n",
        "- brak autokorelacji,\n",
        "- losowość"
      ],
      "metadata": {
        "id": "RlNefgmfnf3o"
      }
    },
    {
      "cell_type": "code",
      "source": [
        "reszty_model4 = model4$residuals\n",
        "reszty_model_all_3 = model_all_3$residuals"
      ],
      "metadata": {
        "id": "QIF1RjTDnXFr"
      },
      "execution_count": 24,
      "outputs": []
    },
    {
      "cell_type": "markdown",
      "source": [
        "rozkład normalny"
      ],
      "metadata": {
        "id": "tNCrQpa5qw34"
      }
    },
    {
      "cell_type": "code",
      "source": [
        "shapiro.test(reszty_model4)\n",
        "shapiro.test(reszty_model_all_3)\n",
        "#H0 normalność\n",
        "#H1 brak\n",
        "# brak podstaw do odrzucenia H0"
      ],
      "metadata": {
        "colab": {
          "base_uri": "https://localhost:8080/",
          "height": 199
        },
        "id": "zU4nHckHpzic",
        "outputId": "59a99320-5982-4de5-e43c-b397ec5a7346"
      },
      "execution_count": 25,
      "outputs": [
        {
          "output_type": "display_data",
          "data": {
            "text/plain": [
              "\n",
              "\tShapiro-Wilk normality test\n",
              "\n",
              "data:  reszty_model4\n",
              "W = 0.97211, p-value = 0.1367\n"
            ]
          },
          "metadata": {}
        },
        {
          "output_type": "display_data",
          "data": {
            "text/plain": [
              "\n",
              "\tShapiro-Wilk normality test\n",
              "\n",
              "data:  reszty_model_all_3\n",
              "W = 0.98578, p-value = 0.6427\n"
            ]
          },
          "metadata": {}
        }
      ]
    },
    {
      "cell_type": "code",
      "source": [
        "hist(reszty_model4)"
      ],
      "metadata": {
        "colab": {
          "base_uri": "https://localhost:8080/",
          "height": 437
        },
        "id": "nN-CgzX1qakp",
        "outputId": "f17ed4be-0b7f-44a7-e38c-12a28594ffaa"
      },
      "execution_count": 91,
      "outputs": [
        {
          "output_type": "display_data",
          "data": {
            "text/plain": [
              "Plot with title “Histogram of reszty_model4”"
            ],
            "image/png": "[encoded data removed]"
          },
          "metadata": {
            "image/png": {
              "width": 420,
              "height": 420
            }
          }
        }
      ]
    },
    {
      "cell_type": "code",
      "source": [
        "#H0 średnia równa 0\n",
        "#H1 inna\n",
        "# brak podstaw do odrzucenia H0\n",
        "t.test(reszty_model4)\n",
        "t.test(reszty_model_all_3)"
      ],
      "metadata": {
        "colab": {
          "base_uri": "https://localhost:8080/",
          "height": 418
        },
        "id": "rxZh8kPRp0-z",
        "outputId": "2810d90b-a886-4f10-c873-e5f1848be323"
      },
      "execution_count": 28,
      "outputs": [
        {
          "output_type": "display_data",
          "data": {
            "text/plain": [
              "\n",
              "\tOne Sample t-test\n",
              "\n",
              "data:  reszty_model4\n",
              "t = -5.8346e-16, df = 66, p-value = 1\n",
              "alternative hypothesis: true mean is not equal to 0\n",
              "95 percent confidence interval:\n",
              " -3.02087  3.02087\n",
              "sample estimates:\n",
              "   mean of x \n",
              "-8.82793e-16 \n"
            ]
          },
          "metadata": {}
        },
        {
          "output_type": "display_data",
          "data": {
            "text/plain": [
              "\n",
              "\tOne Sample t-test\n",
              "\n",
              "data:  reszty_model_all_3\n",
              "t = 1.3723e-17, df = 66, p-value = 1\n",
              "alternative hypothesis: true mean is not equal to 0\n",
              "95 percent confidence interval:\n",
              " -2.393595  2.393595\n",
              "sample estimates:\n",
              "   mean of x \n",
              "1.645236e-17 \n"
            ]
          },
          "metadata": {}
        }
      ]
    },
    {
      "cell_type": "markdown",
      "source": [
        "autokorelacja"
      ],
      "metadata": {
        "id": "LME6Tp6XqHzB"
      }
    },
    {
      "cell_type": "code",
      "source": [
        "#H0 brak autokorelacji rzędu 1 -> jest 0\n",
        "#H1 autokorelacja reszt\n",
        "# odrzucamy H0, w modelu występuje autokorelacja reszt pierwszego rzędu\n",
        "dwtest(model4)\n",
        "\n",
        "#autokorelacja wyższego rzędu\n",
        "coeftest(bgtest(model4, order = 10))\n",
        "\n",
        "dwtest(model_all_3)\n",
        "coeftest(bgtest(model_all_3, order = 10))"
      ],
      "metadata": {
        "colab": {
          "base_uri": "https://localhost:8080/",
          "height": 911
        },
        "id": "Vz121fEtp2dS",
        "outputId": "94e93528-f342-403e-b1cb-e1fb28b63a23"
      },
      "execution_count": 29,
      "outputs": [
        {
          "output_type": "display_data",
          "data": {
            "text/plain": [
              "\n",
              "\tDurbin-Watson test\n",
              "\n",
              "data:  model4\n",
              "DW = 0.34756, p-value < 2.2e-16\n",
              "alternative hypothesis: true autocorrelation is greater than 0\n"
            ]
          },
          "metadata": {}
        },
        {
          "output_type": "display_data",
          "data": {
            "text/plain": [
              "\n",
              "z test of coefficients:\n",
              "\n",
              "                Estimate Std. Error z value  Pr(>|z|)    \n",
              "(Intercept)    0.4401110  3.0247834  0.1455    0.8843    \n",
              "owies         -0.0033253  0.0377541 -0.0881    0.9298    \n",
              "lag(resid)_1   0.8932864  0.1351420  6.6100 3.844e-11 ***\n",
              "lag(resid)_2  -0.0573358  0.1834987 -0.3125    0.7547    \n",
              "lag(resid)_3   0.0411727  0.1825284  0.2256    0.8215    \n",
              "lag(resid)_4   0.0563760  0.1870310  0.3014    0.7631    \n",
              "lag(resid)_5  -0.0661710  0.1833110 -0.3610    0.7181    \n",
              "lag(resid)_6  -0.1992066  0.1914268 -1.0406    0.2980    \n",
              "lag(resid)_7  -0.1399493  0.1957312 -0.7150    0.4746    \n",
              "lag(resid)_8   0.2983544  0.2135184  1.3973    0.1623    \n",
              "lag(resid)_9   0.1028748  0.2215950  0.4642    0.6425    \n",
              "lag(resid)_10 -0.1146907  0.1691445 -0.6781    0.4977    \n",
              "---\n",
              "Signif. codes:  0 ‘***’ 0.001 ‘**’ 0.01 ‘*’ 0.05 ‘.’ 0.1 ‘ ’ 1\n"
            ]
          },
          "metadata": {}
        },
        {
          "output_type": "display_data",
          "data": {
            "text/plain": [
              "\n",
              "\tDurbin-Watson test\n",
              "\n",
              "data:  model_all_3\n",
              "DW = 0.38699, p-value < 2.2e-16\n",
              "alternative hypothesis: true autocorrelation is greater than 0\n"
            ]
          },
          "metadata": {}
        },
        {
          "output_type": "display_data",
          "data": {
            "text/plain": [
              "\n",
              "z test of coefficients:\n",
              "\n",
              "                Estimate Std. Error z value  Pr(>|z|)    \n",
              "(Intercept)   -3.6251827  3.1520512 -1.1501  0.250102    \n",
              "owies         -0.2148688  0.1077820 -1.9935  0.046201 *  \n",
              "bydlo          2.5145561  1.2609807  1.9941  0.046138 *  \n",
              "lag(resid)_1   0.7947151  0.1338769  5.9362 2.918e-09 ***\n",
              "lag(resid)_2   0.0028176  0.1709326  0.0165  0.986849    \n",
              "lag(resid)_3   0.0571927  0.1728462  0.3309  0.740729    \n",
              "lag(resid)_4  -0.0420190  0.1731492 -0.2427  0.808257    \n",
              "lag(resid)_5  -0.0549522  0.1723688 -0.3188  0.749874    \n",
              "lag(resid)_6  -0.0808776  0.1780519 -0.4542  0.649659    \n",
              "lag(resid)_7  -0.5097289  0.1840137 -2.7701  0.005605 ** \n",
              "lag(resid)_8   0.2550198  0.2231489  1.1428  0.253112    \n",
              "lag(resid)_9   0.3988957  0.2239624  1.7811  0.074899 .  \n",
              "lag(resid)_10 -0.4337957  0.1745663 -2.4850  0.012955 *  \n",
              "---\n",
              "Signif. codes:  0 ‘***’ 0.001 ‘**’ 0.01 ‘*’ 0.05 ‘.’ 0.1 ‘ ’ 1\n"
            ]
          },
          "metadata": {}
        }
      ]
    },
    {
      "cell_type": "markdown",
      "source": [
        "jednorodność wariancji"
      ],
      "metadata": {
        "id": "Xaj7KSf1qFa1"
      }
    },
    {
      "cell_type": "code",
      "source": [
        "#jednorodność wariancji\n",
        "#H0 wariancje jednorodne\n",
        "#H1 brak jednorodnośći\n",
        "# odrzucamy H0\n",
        "gqtest(model4)\n",
        "gqtest(model_all_3)"
      ],
      "metadata": {
        "colab": {
          "base_uri": "https://localhost:8080/",
          "height": 236
        },
        "id": "BRXvJsapp3_0",
        "outputId": "04d2baac-624c-4bdd-c8ab-e46b56288433"
      },
      "execution_count": 30,
      "outputs": [
        {
          "output_type": "display_data",
          "data": {
            "text/plain": [
              "\n",
              "\tGoldfeld-Quandt test\n",
              "\n",
              "data:  model4\n",
              "GQ = 8.9089, df1 = 32, df2 = 31, p-value = 1.195e-08\n",
              "alternative hypothesis: variance increases from segment 1 to 2\n"
            ]
          },
          "metadata": {}
        },
        {
          "output_type": "display_data",
          "data": {
            "text/plain": [
              "\n",
              "\tGoldfeld-Quandt test\n",
              "\n",
              "data:  model_all_3\n",
              "GQ = 10.337, df1 = 31, df2 = 30, p-value = 3.193e-09\n",
              "alternative hypothesis: variance increases from segment 1 to 2\n"
            ]
          },
          "metadata": {}
        }
      ]
    },
    {
      "cell_type": "markdown",
      "source": [
        "weryfikacja liniowości"
      ],
      "metadata": {
        "id": "IUiNBZ6Ap66c"
      }
    },
    {
      "cell_type": "code",
      "source": [
        "harvtest(model4)\n",
        "harvtest(model_all_3)\n",
        "#H0 model jest liniowy (liniowość reszt)\n",
        "#H1 brak liniowości reszt\n",
        "# odrzucamy H0"
      ],
      "metadata": {
        "colab": {
          "base_uri": "https://localhost:8080/",
          "height": 199
        },
        "id": "Z28wHlIJp6gO",
        "outputId": "99fb2baa-fb3e-4c86-a782-3a6f1f7a88d6"
      },
      "execution_count": 31,
      "outputs": [
        {
          "output_type": "display_data",
          "data": {
            "text/plain": [
              "\n",
              "\tHarvey-Collier test\n",
              "\n",
              "data:  model4\n",
              "HC = 6.2135, df = 64, p-value = 4.357e-08\n"
            ]
          },
          "metadata": {}
        },
        {
          "output_type": "display_data",
          "data": {
            "text/plain": [
              "\n",
              "\tHarvey-Collier test\n",
              "\n",
              "data:  model_all_3\n",
              "HC = 3.4275, df = 63, p-value = 0.001078\n"
            ]
          },
          "metadata": {}
        }
      ]
    },
    {
      "cell_type": "code",
      "source": [
        "raintest(model4)\n",
        "harvtest(model_all_3)\n",
        "#H0 model jest liniowy (liniowość reszt)\n",
        "#H1 brak liniowości reszt\n",
        "# brak podstaw do odrzucenia H0"
      ],
      "metadata": {
        "colab": {
          "base_uri": "https://localhost:8080/",
          "height": 199
        },
        "id": "4rK5yVxtp-E2",
        "outputId": "f52f26b0-08bc-4837-f084-a1de37d457aa"
      },
      "execution_count": 32,
      "outputs": [
        {
          "output_type": "display_data",
          "data": {
            "text/plain": [
              "\n",
              "\tRainbow test\n",
              "\n",
              "data:  model4\n",
              "Rain = 2.5312, df1 = 34, df2 = 31, p-value = 0.005284\n"
            ]
          },
          "metadata": {}
        },
        {
          "output_type": "display_data",
          "data": {
            "text/plain": [
              "\n",
              "\tHarvey-Collier test\n",
              "\n",
              "data:  model_all_3\n",
              "HC = 3.4275, df = 63, p-value = 0.001078\n"
            ]
          },
          "metadata": {}
        }
      ]
    },
    {
      "cell_type": "code",
      "source": [
        "resettest(model4)\n",
        "harvtest(model_all_3)\n",
        "#H0 model jest liniowy (liniowość reszt)\n",
        "#H1 brak liniowości reszt\n",
        "# odrzucamy H0"
      ],
      "metadata": {
        "colab": {
          "base_uri": "https://localhost:8080/",
          "height": 199
        },
        "id": "1KQfN_oHp_qE",
        "outputId": "f675211c-da79-4b31-e145-607d5afa0e80"
      },
      "execution_count": 33,
      "outputs": [
        {
          "output_type": "display_data",
          "data": {
            "text/plain": [
              "\n",
              "\tRESET test\n",
              "\n",
              "data:  model4\n",
              "RESET = 3.4951, df1 = 2, df2 = 63, p-value = 0.03636\n"
            ]
          },
          "metadata": {}
        },
        {
          "output_type": "display_data",
          "data": {
            "text/plain": [
              "\n",
              "\tHarvey-Collier test\n",
              "\n",
              "data:  model_all_3\n",
              "HC = 3.4275, df = 63, p-value = 0.001078\n"
            ]
          },
          "metadata": {}
        }
      ]
    },
    {
      "cell_type": "markdown",
      "source": [
        "wykresy diagnostyczne"
      ],
      "metadata": {
        "id": "hChpZ4VdqC2T"
      }
    },
    {
      "cell_type": "code",
      "source": [
        "plot(model4)\n",
        "#1 czy warość średnia jest równa 0 (linia przerywana to 0 dla reszt) -- tstudenta sprawdzone że nie odbiega\n",
        "#2 normalność rozkładu (linia przerywana obrazuje silną korelacje dodatnią) -- odpowiednik shapiro (reszty 60 59 51 odbiegają ale nie pusją)\n",
        "#3 określenie jednorodności wariancji\n",
        "#4 obserwacje nietypowe (leverage) -- brak obserwacji nietypowej (powyżej cooks distance)"
      ],
      "metadata": {
        "colab": {
          "base_uri": "https://localhost:8080/",
          "height": 1000
        },
        "id": "WG2WfsKiqBv_",
        "outputId": "902c03f6-c87f-4b98-c550-e90c885928b4"
      },
      "execution_count": 34,
      "outputs": [
        {
          "output_type": "display_data",
          "data": {
            "text/plain": [
              "Plot with title “”"
            ],
            "image/png": "[encoded data removed]"
          },
          "metadata": {
            "image/png": {
              "width": 420,
              "height": 420
            }
          }
        },
        {
          "output_type": "display_data",
          "data": {
            "text/plain": [
              "Plot with title “”"
            ],
            "image/png": "[encoded data removed]"
          },
          "metadata": {
            "image/png": {
              "width": 420,
              "height": 420
            }
          }
        },
        {
          "output_type": "display_data",
          "data": {
            "text/plain": [
              "Plot with title “”"
            ],
            "image/png": "[encoded data removed]"
          },
          "metadata": {
            "image/png": {
              "width": 420,
              "height": 420
            }
          }
        },
        {
          "output_type": "display_data",
          "data": {
            "text/plain": [
              "Plot with title “”"
            ],
            "image/png": "[encoded data removed]"
          },
          "metadata": {
            "image/png": {
              "width": 420,
              "height": 420
            }
          }
        }
      ]
    },
    {
      "cell_type": "markdown",
      "source": [
        "## Porównanie modeli - ANOVA"
      ],
      "metadata": {
        "id": "_kb13RLy63zU"
      }
    },
    {
      "cell_type": "markdown",
      "source": [
        "H0: model 2  nie jest istotnie lepszy od modelu 1\n",
        "\n",
        "H1: model 2 jest istotnie lepszy"
      ],
      "metadata": {
        "id": "Klgb4JHF7Bgr"
      }
    },
    {
      "cell_type": "code",
      "source": [
        "anova(model_all_3, model4)"
      ],
      "metadata": {
        "id": "zFyOtMlC63VE",
        "outputId": "764f8fa0-f9a8-4b7a-8281-754ab86a188b",
        "colab": {
          "base_uri": "https://localhost:8080/",
          "height": 161
        }
      },
      "execution_count": 92,
      "outputs": [
        {
          "output_type": "display_data",
          "data": {
            "text/html": [
              "<table class=\"dataframe\">\n",
              "<caption>A anova: 2 × 6</caption>\n",
              "<thead>\n",
              "\t<tr><th></th><th scope=col>Res.Df</th><th scope=col>RSS</th><th scope=col>Df</th><th scope=col>Sum of Sq</th><th scope=col>F</th><th scope=col>Pr(&gt;F)</th></tr>\n",
              "\t<tr><th></th><th scope=col>&lt;dbl&gt;</th><th scope=col>&lt;dbl&gt;</th><th scope=col>&lt;dbl&gt;</th><th scope=col>&lt;dbl&gt;</th><th scope=col>&lt;dbl&gt;</th><th scope=col>&lt;dbl&gt;</th></tr>\n",
              "</thead>\n",
              "<tbody>\n",
              "\t<tr><th scope=row>1</th><td>64</td><td> 6355.554</td><td>NA</td><td>       NA</td><td>      NA</td><td>          NA</td></tr>\n",
              "\t<tr><th scope=row>2</th><td>65</td><td>10123.162</td><td>-1</td><td>-3767.607</td><td>37.93955</td><td>5.396178e-08</td></tr>\n",
              "</tbody>\n",
              "</table>\n"
            ],
            "text/markdown": "\nA anova: 2 × 6\n\n| <!--/--> | Res.Df &lt;dbl&gt; | RSS &lt;dbl&gt; | Df &lt;dbl&gt; | Sum of Sq &lt;dbl&gt; | F &lt;dbl&gt; | Pr(&gt;F) &lt;dbl&gt; |\n|---|---|---|---|---|---|---|\n| 1 | 64 |  6355.554 | NA |        NA |       NA |           NA |\n| 2 | 65 | 10123.162 | -1 | -3767.607 | 37.93955 | 5.396178e-08 |\n\n",
            "text/latex": "A anova: 2 × 6\n\\begin{tabular}{r|llllll}\n  & Res.Df & RSS & Df & Sum of Sq & F & Pr(>F)\\\\\n  & <dbl> & <dbl> & <dbl> & <dbl> & <dbl> & <dbl>\\\\\n\\hline\n\t1 & 64 &  6355.554 & NA &        NA &       NA &           NA\\\\\n\t2 & 65 & 10123.162 & -1 & -3767.607 & 37.93955 & 5.396178e-08\\\\\n\\end{tabular}\n",
            "text/plain": [
              "  Res.Df RSS       Df Sum of Sq F        Pr(>F)      \n",
              "1 64      6355.554 NA        NA       NA           NA\n",
              "2 65     10123.162 -1 -3767.607 37.93955 5.396178e-08"
            ]
          },
          "metadata": {}
        }
      ]
    },
    {
      "cell_type": "markdown",
      "source": [
        "###Prognozy"
      ],
      "metadata": {
        "id": "4vRApxOUP_2f"
      }
    },
    {
      "cell_type": "code",
      "source": [
        "install.packages(\"Metrics\")\n",
        "library(Metrics)"
      ],
      "metadata": {
        "id": "KyC1M-D-XbEY",
        "outputId": "dff1e74a-05cc-454e-fad5-eafcd9ddfbfc",
        "colab": {
          "base_uri": "https://localhost:8080/"
        }
      },
      "execution_count": 112,
      "outputs": [
        {
          "output_type": "stream",
          "name": "stderr",
          "text": [
            "Installing package into ‘/usr/local/lib/R/site-library’\n",
            "(as ‘lib’ is unspecified)\n",
            "\n"
          ]
        }
      ]
    },
    {
      "cell_type": "markdown",
      "source": [
        "### dane treningowe"
      ],
      "metadata": {
        "id": "0Y3_b7RYmhuQ"
      }
    },
    {
      "cell_type": "code",
      "source": [
        "plot(trening$mleko, fitted(model4))\n",
        "abline(lm(fitted(model4)~trening$mleko))\n",
        "\n",
        "plot(trening$mleko, fitted(model_all_3))\n",
        "abline(lm(fitted(model_all_3)~trening$mleko))"
      ],
      "metadata": {
        "id": "E5kRBfzMmj37",
        "outputId": "335dc57c-bddd-44bd-b927-e482453d2be0",
        "colab": {
          "base_uri": "https://localhost:8080/",
          "height": 857
        }
      },
      "execution_count": 126,
      "outputs": [
        {
          "output_type": "display_data",
          "data": {
            "text/plain": [
              "plot without title"
            ],
            "image/png": "[encoded data removed]"
          },
          "metadata": {
            "image/png": {
              "width": 420,
              "height": 420
            }
          }
        },
        {
          "output_type": "display_data",
          "data": {
            "text/plain": [
              "plot without title"
            ],
            "image/png": "[encoded data removed]"
          },
          "metadata": {
            "image/png": {
              "width": 420,
              "height": 420
            }
          }
        }
      ]
    },
    {
      "cell_type": "markdown",
      "source": [
        "### prognoza punktowa"
      ],
      "metadata": {
        "id": "8e86GwUij8_W"
      }
    },
    {
      "cell_type": "code",
      "source": [
        "a <- lm(mleko~., data = trening)\n",
        "pred <- predict(a, newdata=test)\n",
        "cor(test$mleko, pred)\n"
      ],
      "metadata": {
        "id": "b3p1pCeFso_O",
        "outputId": "d64d93ba-f7bc-48ca-f6bf-e5a304ad9d8a",
        "colab": {
          "base_uri": "https://localhost:8080/",
          "height": 34
        }
      },
      "execution_count": 137,
      "outputs": [
        {
          "output_type": "display_data",
          "data": {
            "text/html": [
              "0.557677973621957"
            ],
            "text/markdown": "0.557677973621957",
            "text/latex": "0.557677973621957",
            "text/plain": [
              "[1] 0.557678"
            ]
          },
          "metadata": {}
        }
      ]
    },
    {
      "cell_type": "code",
      "source": [
        "pred_test4 <- predict(model4, newdata=test)\n",
        "pred_test_all_3 <- predict(model_all_3, newdata=test)\n",
        "\n",
        "cor_test4 <- cor(test$mleko, pred_test4 )\n",
        "cor_all_3 <- cor(test$mleko, pred_test_all_3)\n",
        "cor_test4\n",
        "cor_all_3"
      ],
      "metadata": {
        "id": "1rI4Ps8ikDcG",
        "outputId": "8d615d0a-9e40-4f5f-b898-9bce6266130f",
        "colab": {
          "base_uri": "https://localhost:8080/",
          "height": 52
        }
      },
      "execution_count": 130,
      "outputs": [
        {
          "output_type": "display_data",
          "data": {
            "text/html": [
              "0.27872691801971"
            ],
            "text/markdown": "0.27872691801971",
            "text/latex": "0.27872691801971",
            "text/plain": [
              "[1] 0.2787269"
            ]
          },
          "metadata": {}
        },
        {
          "output_type": "display_data",
          "data": {
            "text/html": [
              "0.545120106002413"
            ],
            "text/markdown": "0.545120106002413",
            "text/latex": "0.545120106002413",
            "text/plain": [
              "[1] 0.5451201"
            ]
          },
          "metadata": {}
        }
      ]
    },
    {
      "cell_type": "code",
      "source": [
        "plot(test$mleko, pred_test4, main = \"Model 1\",\n",
        "     xlab = \"Rzeczywista cena mleka\", ylab = \"Przewidywana cena mleka\")\n",
        "abline(lm(pred_test4 ~ test$mleko))\n",
        "\n",
        "plot(test$mleko, pred_test_all_3, main = \"Model 2\",\n",
        "     xlab = \"Rzeczywista cena mleka\", ylab = \"Przewidywana cena mleka\")\n",
        "abline(lm(pred_test_all_3 ~ test$mleko))"
      ],
      "metadata": {
        "id": "YPO0SD4AZPXp",
        "outputId": "e8f05830-e228-4217-9c81-6636895fec72",
        "colab": {
          "base_uri": "https://localhost:8080/",
          "height": 857
        }
      },
      "execution_count": 128,
      "outputs": [
        {
          "output_type": "display_data",
          "data": {
            "text/plain": [
              "Plot with title “Model 1: Rzeczywiste vs Predykcja”"
            ],
            "image/png": "[encoded data removed]"
          },
          "metadata": {
            "image/png": {
              "width": 420,
              "height": 420
            }
          }
        },
        {
          "output_type": "display_data",
          "data": {
            "text/plain": [
              "Plot with title “Model 2: Rzeczywiste vs Predykcja”"
            ],
            "image/png": "[encoded data removed]"
          },
          "metadata": {
            "image/png": {
              "width": 420,
              "height": 420
            }
          }
        }
      ]
    },
    {
      "cell_type": "markdown",
      "source": [
        "## Ocena dokładności prognoz"
      ],
      "metadata": {
        "id": "emesRbnf7gs7"
      }
    },
    {
      "cell_type": "markdown",
      "source": [
        "### Ocena ex post"
      ],
      "metadata": {
        "id": "vBckn3J87nFa"
      }
    },
    {
      "cell_type": "markdown",
      "source": [
        "#### Błąd prognozy"
      ],
      "metadata": {
        "id": "RPSR5aJju8J_"
      }
    },
    {
      "cell_type": "code",
      "source": [
        "#model 1\n",
        "# Predykcja na zbiorze treningowym\n",
        "train4<- predict(model4, newdata = trening)\n",
        "# Predykcja na zbiorze testowym\n",
        "test4 <- predict(model4, newdata = test)"
      ],
      "metadata": {
        "id": "rgJnyiKb8LCm"
      },
      "execution_count": 138,
      "outputs": []
    },
    {
      "cell_type": "code",
      "source": [
        "library(Metrics)\n",
        "\n",
        "# RMSE\n",
        "rmse_train <- rmse(trening$mleko, train4)\n",
        "rmse_test <- rmse(test$mleko, test4)\n",
        "\n",
        "# MAE\n",
        "mae_train <- mae(trening$mleko, train4)\n",
        "mae_test <- mae(test$mleko, test4)\n",
        "\n",
        "# R²\n",
        "r2_train <- cor(trening$mleko, train4)^2\n",
        "r2_test <- cor(test$mleko, test4)^2\n",
        "\n",
        "# Wyniki\n",
        "cat(\"RMSE Train:\", rmse_train, \" | RMSE Test:\", rmse_test, \"\\n\")\n",
        "cat(\"MAE Train:\", mae_train, \" | MAE Test:\", mae_test, \"\\n\")\n",
        "cat(\"R² Train:\", r2_train, \" | R² Test:\", r2_test, \"\\n\")\n"
      ],
      "metadata": {
        "id": "fYBZuo63v8yn",
        "outputId": "a0eca96d-ac94-42bd-ce8e-68419c80aefd",
        "colab": {
          "base_uri": "https://localhost:8080/"
        }
      },
      "execution_count": 139,
      "outputs": [
        {
          "output_type": "stream",
          "name": "stdout",
          "text": [
            "RMSE Train: 12.29195  | RMSE Test: 26.65175 \n",
            "MAE Train: 10.33956  | MAE Test: 21.56081 \n",
            "R² Train: 0.9114582  | R² Test: 0.07768869 \n"
          ]
        }
      ]
    },
    {
      "cell_type": "code",
      "source": [
        "#model 1\n",
        "# Predykcja na zbiorze treningowym\n",
        "train3<- predict(model_all_3, newdata = trening)\n",
        "# Predykcja na zbiorze testowym\n",
        "test3 <- predict(model_all_3, newdata = test)"
      ],
      "metadata": {
        "id": "YAOjqSfxwbGE"
      },
      "execution_count": 141,
      "outputs": []
    },
    {
      "cell_type": "code",
      "source": [
        "blad <- trening$mleko - train3\n",
        "plot(blad)"
      ],
      "metadata": {
        "id": "WBz_YDMHxf84",
        "outputId": "2784ad6c-98a6-475f-9708-4ef5e642d7c3",
        "colab": {
          "base_uri": "https://localhost:8080/",
          "height": 437
        }
      },
      "execution_count": 145,
      "outputs": [
        {
          "output_type": "display_data",
          "data": {
            "text/plain": [
              "plot without title"
            ],
            "image/png": "[encoded data removed]"
          },
          "metadata": {
            "image/png": {
              "width": 420,
              "height": 420
            }
          }
        }
      ]
    },
    {
      "cell_type": "code",
      "source": [
        "library(Metrics)\n",
        "\n",
        "# RMSE\n",
        "rmse_train <- rmse(trening$mleko, train3)\n",
        "rmse_test <- rmse(test$mleko, test3)\n",
        "\n",
        "# MAE\n",
        "mae_train <- mae(trening$mleko, train3)\n",
        "mae_test <- mae(test$mleko, test3)\n",
        "\n",
        "# R²\n",
        "r2_train <- cor(trening$mleko, train3)^2\n",
        "r2_test <- cor(test$mleko, test3)^2\n",
        "\n",
        "# Wyniki\n",
        "cat(\"RMSE Train:\", rmse_train, \" | RMSE Test:\", rmse_test, \"\\n\")\n",
        "cat(\"MAE Train:\", mae_train, \" | MAE Test:\", mae_test, \"\\n\")\n",
        "cat(\"R² Train:\", r2_train, \" | R² Test:\", r2_test, \"\\n\")\n"
      ],
      "metadata": {
        "id": "0BMiERduwgoN",
        "outputId": "f5fbbe9f-b9ab-414b-ea31-1f549b6a2ce8",
        "colab": {
          "base_uri": "https://localhost:8080/"
        }
      },
      "execution_count": 142,
      "outputs": [
        {
          "output_type": "stream",
          "name": "stdout",
          "text": [
            "RMSE Train: 9.73956  | RMSE Test: 11.06664 \n",
            "MAE Train: 7.373982  | MAE Test: 7.824043 \n",
            "R² Train: 0.9444114  | R² Test: 0.2971559 \n"
          ]
        }
      ]
    },
    {
      "cell_type": "markdown",
      "source": [
        "### Ocena ex ante"
      ],
      "metadata": {
        "id": "cCXJvMrX8FPu"
      }
    },
    {
      "cell_type": "code",
      "source": [],
      "metadata": {
        "id": "l8_DJCBX7kh6"
      },
      "execution_count": null,
      "outputs": []
    }
  ]
}